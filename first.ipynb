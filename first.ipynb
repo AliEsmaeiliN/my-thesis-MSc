{
 "cells": [
  {
   "cell_type": "code",
   "execution_count": 11,
   "metadata": {},
   "outputs": [],
   "source": [
    "import gpxpy\n",
    "import gpxpy.gpx\n",
    "import numpy as np\n",
    "import haversine as hs\n",
    "\n",
    "\n",
    "import pandas as pd\n",
    "import matplotlib.pyplot as plt\n",
    "plt.rcParams['axes.spines.top'] = False\n",
    "plt.rcParams['axes.spines.right'] = False"
   ]
  },
  {
   "cell_type": "code",
   "execution_count": 79,
   "metadata": {},
   "outputs": [
    {
     "data": {
      "text/plain": [
       "395"
      ]
     },
     "execution_count": 79,
     "metadata": {},
     "output_type": "execute_result"
    }
   ],
   "source": [
    "file_path = 'some-gpx/alpes-8.gpx'\n",
    "with open(file_path, 'r') as gpx_file:\n",
    "    gpx = gpxpy.parse(gpx_file)\n",
    "\n",
    "#* Get the number of data points (number of times geolocation was taken):\n",
    "gpx.get_track_points_no()"
   ]
  },
  {
   "cell_type": "code",
   "execution_count": 80,
   "metadata": {},
   "outputs": [
    {
     "data": {
      "text/plain": [
       "UphillDownhill(uphill=2240.5330999999996, downhill=1292.2041000000002)"
      ]
     },
     "execution_count": 80,
     "metadata": {},
     "output_type": "execute_result"
    }
   ],
   "source": [
    "# Get the number of meters of uphil and downhil ride\n",
    "# It's a roundtrip, so the numbers are almost identical\n",
    "gpx.get_uphill_downhill()"
   ]
  },
  {
   "cell_type": "code",
   "execution_count": 81,
   "metadata": {},
   "outputs": [
    {
     "data": {
      "text/plain": [
       "GPXTrack(name='ALPES 8', segments=[GPXTrackSegment(points=[...])])"
      ]
     },
     "execution_count": 81,
     "metadata": {},
     "output_type": "execute_result"
    }
   ],
   "source": [
    "gpx.tracks[0]"
   ]
  },
  {
   "cell_type": "code",
   "execution_count": 82,
   "metadata": {},
   "outputs": [
    {
     "data": {
      "text/plain": [
       "[GPXTrackPoint(46.363803, 10.895592, elevation=764.931, time=datetime.datetime(2014, 9, 18, 6, 23, 32, tzinfo=SimpleTZ(\"Z\"))),\n",
       " GPXTrackPoint(46.363687, 10.895473, elevation=805.761, time=datetime.datetime(2014, 9, 18, 6, 24, 14, tzinfo=SimpleTZ(\"Z\"))),\n",
       " GPXTrackPoint(46.363725, 10.895574, elevation=824.007, time=datetime.datetime(2014, 9, 18, 6, 25, 37, tzinfo=SimpleTZ(\"Z\"))),\n",
       " GPXTrackPoint(46.364231, 10.895524, elevation=825.407, time=datetime.datetime(2014, 9, 18, 6, 26, 41, tzinfo=SimpleTZ(\"Z\"))),\n",
       " GPXTrackPoint(46.365102, 10.894322, elevation=831.75, time=datetime.datetime(2014, 9, 18, 6, 28, 2, tzinfo=SimpleTZ(\"Z\"))),\n",
       " GPXTrackPoint(46.365479, 10.891955, elevation=840.311, time=datetime.datetime(2014, 9, 18, 6, 29, 49, tzinfo=SimpleTZ(\"Z\"))),\n",
       " GPXTrackPoint(46.366617, 10.889439, elevation=849.921, time=datetime.datetime(2014, 9, 18, 6, 31, 38, tzinfo=SimpleTZ(\"Z\"))),\n",
       " GPXTrackPoint(46.366933, 10.887685, elevation=860.542, time=datetime.datetime(2014, 9, 18, 6, 33, 32, tzinfo=SimpleTZ(\"Z\"))),\n",
       " GPXTrackPoint(46.367544, 10.886942, elevation=863.992, time=datetime.datetime(2014, 9, 18, 6, 34, 8, tzinfo=SimpleTZ(\"Z\"))),\n",
       " GPXTrackPoint(46.368271, 10.885282, elevation=873.075, time=datetime.datetime(2014, 9, 18, 6, 35, 16, tzinfo=SimpleTZ(\"Z\")))]"
      ]
     },
     "execution_count": 82,
     "metadata": {},
     "output_type": "execute_result"
    }
   ],
   "source": [
    "gpx.tracks[0].segments[0].points[:10]"
   ]
  },
  {
   "cell_type": "code",
   "execution_count": 83,
   "metadata": {},
   "outputs": [
    {
     "data": {
      "text/plain": [
       "[{'latitude': 46.363803, 'longitude': 10.895592, 'elevation': 764.931},\n",
       " {'latitude': 46.363687, 'longitude': 10.895473, 'elevation': 805.761},\n",
       " {'latitude': 46.363725, 'longitude': 10.895574, 'elevation': 824.007}]"
      ]
     },
     "execution_count": 83,
     "metadata": {},
     "output_type": "execute_result"
    }
   ],
   "source": [
    "route_info = []\n",
    "\n",
    "for track in gpx.tracks:\n",
    "    for segment in track.segments:\n",
    "        for point in segment.points:\n",
    "            route_info.append({\n",
    "                'latitude': point.latitude,\n",
    "                'longitude': point.longitude,\n",
    "                'elevation': point.elevation\n",
    "            })\n",
    "route_info[:3]"
   ]
  },
  {
   "cell_type": "code",
   "execution_count": 7,
   "metadata": {},
   "outputs": [
    {
     "data": {
      "text/html": [
       "<div>\n",
       "<style scoped>\n",
       "    .dataframe tbody tr th:only-of-type {\n",
       "        vertical-align: middle;\n",
       "    }\n",
       "\n",
       "    .dataframe tbody tr th {\n",
       "        vertical-align: top;\n",
       "    }\n",
       "\n",
       "    .dataframe thead th {\n",
       "        text-align: right;\n",
       "    }\n",
       "</style>\n",
       "<table border=\"1\" class=\"dataframe\">\n",
       "  <thead>\n",
       "    <tr style=\"text-align: right;\">\n",
       "      <th></th>\n",
       "      <th>latitude</th>\n",
       "      <th>longitude</th>\n",
       "      <th>elevation</th>\n",
       "    </tr>\n",
       "  </thead>\n",
       "  <tbody>\n",
       "    <tr>\n",
       "      <th>0</th>\n",
       "      <td>46.363803</td>\n",
       "      <td>10.895592</td>\n",
       "      <td>764.931</td>\n",
       "    </tr>\n",
       "    <tr>\n",
       "      <th>1</th>\n",
       "      <td>46.363687</td>\n",
       "      <td>10.895473</td>\n",
       "      <td>805.761</td>\n",
       "    </tr>\n",
       "    <tr>\n",
       "      <th>2</th>\n",
       "      <td>46.363725</td>\n",
       "      <td>10.895574</td>\n",
       "      <td>824.007</td>\n",
       "    </tr>\n",
       "    <tr>\n",
       "      <th>3</th>\n",
       "      <td>46.364231</td>\n",
       "      <td>10.895524</td>\n",
       "      <td>825.407</td>\n",
       "    </tr>\n",
       "    <tr>\n",
       "      <th>4</th>\n",
       "      <td>46.365102</td>\n",
       "      <td>10.894322</td>\n",
       "      <td>831.750</td>\n",
       "    </tr>\n",
       "  </tbody>\n",
       "</table>\n",
       "</div>"
      ],
      "text/plain": [
       "    latitude  longitude  elevation\n",
       "0  46.363803  10.895592    764.931\n",
       "1  46.363687  10.895473    805.761\n",
       "2  46.363725  10.895574    824.007\n",
       "3  46.364231  10.895524    825.407\n",
       "4  46.365102  10.894322    831.750"
      ]
     },
     "execution_count": 7,
     "metadata": {},
     "output_type": "execute_result"
    }
   ],
   "source": [
    "route_df = pd.DataFrame(route_info)\n",
    "route_df.head()"
   ]
  },
  {
   "cell_type": "code",
   "execution_count": 8,
   "metadata": {},
   "outputs": [
    {
     "data": {
      "image/png": "[encoded data removed]",
      "text/plain": [
       "<Figure size 700x500 with 1 Axes>"
      ]
     },
     "metadata": {},
     "output_type": "display_data"
    }
   ],
   "source": [
    "plt.figure(figsize=(7, 5))\n",
    "plt.scatter(route_df['longitude'], route_df['latitude'], color='#101010')\n",
    "plt.title('Route latitude and longitude points', size=20);"
   ]
  },
  {
   "attachments": {},
   "cell_type": "markdown",
   "metadata": {},
   "source": [
    "##### 3- Calculate elevation difference "
   ]
  },
  {
   "cell_type": "code",
   "execution_count": 14,
   "metadata": {},
   "outputs": [
    {
     "data": {
      "text/html": [
       "<div>\n",
       "<style scoped>\n",
       "    .dataframe tbody tr th:only-of-type {\n",
       "        vertical-align: middle;\n",
       "    }\n",
       "\n",
       "    .dataframe tbody tr th {\n",
       "        vertical-align: top;\n",
       "    }\n",
       "\n",
       "    .dataframe thead th {\n",
       "        text-align: right;\n",
       "    }\n",
       "</style>\n",
       "<table border=\"1\" class=\"dataframe\">\n",
       "  <thead>\n",
       "    <tr style=\"text-align: right;\">\n",
       "      <th></th>\n",
       "      <th>latitude</th>\n",
       "      <th>longitude</th>\n",
       "      <th>elevation</th>\n",
       "      <th>elevation_diff</th>\n",
       "    </tr>\n",
       "  </thead>\n",
       "  <tbody>\n",
       "    <tr>\n",
       "      <th>0</th>\n",
       "      <td>46.363803</td>\n",
       "      <td>10.895592</td>\n",
       "      <td>764.931</td>\n",
       "      <td>NaN</td>\n",
       "    </tr>\n",
       "    <tr>\n",
       "      <th>1</th>\n",
       "      <td>46.363687</td>\n",
       "      <td>10.895473</td>\n",
       "      <td>805.761</td>\n",
       "      <td>40.830</td>\n",
       "    </tr>\n",
       "    <tr>\n",
       "      <th>2</th>\n",
       "      <td>46.363725</td>\n",
       "      <td>10.895574</td>\n",
       "      <td>824.007</td>\n",
       "      <td>18.246</td>\n",
       "    </tr>\n",
       "    <tr>\n",
       "      <th>3</th>\n",
       "      <td>46.364231</td>\n",
       "      <td>10.895524</td>\n",
       "      <td>825.407</td>\n",
       "      <td>1.400</td>\n",
       "    </tr>\n",
       "    <tr>\n",
       "      <th>4</th>\n",
       "      <td>46.365102</td>\n",
       "      <td>10.894322</td>\n",
       "      <td>831.750</td>\n",
       "      <td>6.343</td>\n",
       "    </tr>\n",
       "  </tbody>\n",
       "</table>\n",
       "</div>"
      ],
      "text/plain": [
       "    latitude  longitude  elevation  elevation_diff\n",
       "0  46.363803  10.895592    764.931             NaN\n",
       "1  46.363687  10.895473    805.761          40.830\n",
       "2  46.363725  10.895574    824.007          18.246\n",
       "3  46.364231  10.895524    825.407           1.400\n",
       "4  46.365102  10.894322    831.750           6.343"
      ]
     },
     "execution_count": 14,
     "metadata": {},
     "output_type": "execute_result"
    }
   ],
   "source": [
    "route_df['elevation_diff'] = route_df['elevation'].diff()\n",
    "\n",
    "route_df.head()"
   ]
  },
  {
   "cell_type": "code",
   "execution_count": 15,
   "metadata": {},
   "outputs": [],
   "source": [
    "def haversine_distance(lat1, lon1, lat2, lon2) -> float:\n",
    "    distance = hs.haversine(\n",
    "        point1=(lat1, lon1),\n",
    "        point2=(lat2, lon2),\n",
    "        unit=hs.Unit.METERS\n",
    "    )\n",
    "    return np.round(distance, 2)"
   ]
  },
  {
   "attachments": {},
   "cell_type": "markdown",
   "metadata": {},
   "source": [
    "Calculate the distances between all data points"
   ]
  },
  {
   "cell_type": "code",
   "execution_count": 17,
   "metadata": {},
   "outputs": [
    {
     "data": {
      "text/html": [
       "<div>\n",
       "<style scoped>\n",
       "    .dataframe tbody tr th:only-of-type {\n",
       "        vertical-align: middle;\n",
       "    }\n",
       "\n",
       "    .dataframe tbody tr th {\n",
       "        vertical-align: top;\n",
       "    }\n",
       "\n",
       "    .dataframe thead th {\n",
       "        text-align: right;\n",
       "    }\n",
       "</style>\n",
       "<table border=\"1\" class=\"dataframe\">\n",
       "  <thead>\n",
       "    <tr style=\"text-align: right;\">\n",
       "      <th></th>\n",
       "      <th>latitude</th>\n",
       "      <th>longitude</th>\n",
       "      <th>elevation</th>\n",
       "      <th>elevation_diff</th>\n",
       "      <th>distance</th>\n",
       "    </tr>\n",
       "  </thead>\n",
       "  <tbody>\n",
       "    <tr>\n",
       "      <th>0</th>\n",
       "      <td>46.363803</td>\n",
       "      <td>10.895592</td>\n",
       "      <td>764.931</td>\n",
       "      <td>NaN</td>\n",
       "      <td>NaN</td>\n",
       "    </tr>\n",
       "    <tr>\n",
       "      <th>1</th>\n",
       "      <td>46.363687</td>\n",
       "      <td>10.895473</td>\n",
       "      <td>805.761</td>\n",
       "      <td>40.830</td>\n",
       "      <td>15.80</td>\n",
       "    </tr>\n",
       "    <tr>\n",
       "      <th>2</th>\n",
       "      <td>46.363725</td>\n",
       "      <td>10.895574</td>\n",
       "      <td>824.007</td>\n",
       "      <td>18.246</td>\n",
       "      <td>8.83</td>\n",
       "    </tr>\n",
       "    <tr>\n",
       "      <th>3</th>\n",
       "      <td>46.364231</td>\n",
       "      <td>10.895524</td>\n",
       "      <td>825.407</td>\n",
       "      <td>1.400</td>\n",
       "      <td>56.40</td>\n",
       "    </tr>\n",
       "    <tr>\n",
       "      <th>4</th>\n",
       "      <td>46.365102</td>\n",
       "      <td>10.894322</td>\n",
       "      <td>831.750</td>\n",
       "      <td>6.343</td>\n",
       "      <td>133.74</td>\n",
       "    </tr>\n",
       "  </tbody>\n",
       "</table>\n",
       "</div>"
      ],
      "text/plain": [
       "    latitude  longitude  elevation  elevation_diff  distance\n",
       "0  46.363803  10.895592    764.931             NaN       NaN\n",
       "1  46.363687  10.895473    805.761          40.830     15.80\n",
       "2  46.363725  10.895574    824.007          18.246      8.83\n",
       "3  46.364231  10.895524    825.407           1.400     56.40\n",
       "4  46.365102  10.894322    831.750           6.343    133.74"
      ]
     },
     "execution_count": 17,
     "metadata": {},
     "output_type": "execute_result"
    }
   ],
   "source": [
    "haversine_distance(\n",
    "    lat1=route_df.iloc[0]['latitude'],\n",
    "    lon1=route_df.iloc[0]['longitude'],\n",
    "    lat2=route_df.iloc[1]['latitude'],\n",
    "    lon2=route_df.iloc[1]['longitude']\n",
    ")\n",
    "\n",
    "distances = [np.nan]\n",
    "\n",
    "for i in range(len(route_df)):\n",
    "    if i == 0:\n",
    "        continue\n",
    "    else:\n",
    "        distances.append(haversine_distance(\n",
    "            lat1=route_df.iloc[i - 1]['latitude'],\n",
    "            lon1=route_df.iloc[i - 1]['longitude'],\n",
    "            lat2=route_df.iloc[i]['latitude'],\n",
    "            lon2=route_df.iloc[i]['longitude']\n",
    "        ))\n",
    "        \n",
    "route_df['distance'] = distances\n",
    "route_df.head()\n"
   ]
  },
  {
   "cell_type": "code",
   "execution_count": 75,
   "metadata": {},
   "outputs": [
    {
     "name": "stdout",
     "output_type": "stream",
     "text": [
      "Max altitude: 2466.407 m\n",
      "Total distance: 42.891569999999994 km\n"
     ]
    }
   ],
   "source": [
    "print('Max altitude:', (route_df['elevation']).max(), 'm')\n",
    "# print('v', route_df[route_df['elevation_diff'] <= 0]['elevation_diff'].sum())\n",
    "\n",
    "print('Total distance:', route_df['distance'].sum() / 1000 , 'km')"
   ]
  },
  {
   "attachments": {
    "image.png": {
     "image/png": "[encoded data removed]"
    }
   },
   "cell_type": "markdown",
   "metadata": {},
   "source": [
    "![image.png](attachment:image.png)"
   ]
  },
  {
   "attachments": {},
   "cell_type": "markdown",
   "metadata": {},
   "source": [
    "##### Visualize the Elevation profile"
   ]
  },
  {
   "cell_type": "code",
   "execution_count": 78,
   "metadata": {},
   "outputs": [
    {
     "data": {
      "text/html": [
       "<div>\n",
       "<style scoped>\n",
       "    .dataframe tbody tr th:only-of-type {\n",
       "        vertical-align: middle;\n",
       "    }\n",
       "\n",
       "    .dataframe tbody tr th {\n",
       "        vertical-align: top;\n",
       "    }\n",
       "\n",
       "    .dataframe thead th {\n",
       "        text-align: right;\n",
       "    }\n",
       "</style>\n",
       "<table border=\"1\" class=\"dataframe\">\n",
       "  <thead>\n",
       "    <tr style=\"text-align: right;\">\n",
       "      <th></th>\n",
       "      <th>latitude</th>\n",
       "      <th>longitude</th>\n",
       "      <th>elevation</th>\n",
       "      <th>elevation_diff</th>\n",
       "      <th>distance</th>\n",
       "      <th>cum_elevation</th>\n",
       "      <th>cum_distance</th>\n",
       "    </tr>\n",
       "  </thead>\n",
       "  <tbody>\n",
       "    <tr>\n",
       "      <th>0</th>\n",
       "      <td>46.363803</td>\n",
       "      <td>10.895592</td>\n",
       "      <td>764.931</td>\n",
       "      <td>0.000</td>\n",
       "      <td>0.00</td>\n",
       "      <td>0.000</td>\n",
       "      <td>0.00</td>\n",
       "    </tr>\n",
       "    <tr>\n",
       "      <th>1</th>\n",
       "      <td>46.363687</td>\n",
       "      <td>10.895473</td>\n",
       "      <td>805.761</td>\n",
       "      <td>40.830</td>\n",
       "      <td>15.80</td>\n",
       "      <td>40.830</td>\n",
       "      <td>15.80</td>\n",
       "    </tr>\n",
       "    <tr>\n",
       "      <th>2</th>\n",
       "      <td>46.363725</td>\n",
       "      <td>10.895574</td>\n",
       "      <td>824.007</td>\n",
       "      <td>18.246</td>\n",
       "      <td>8.83</td>\n",
       "      <td>59.076</td>\n",
       "      <td>24.63</td>\n",
       "    </tr>\n",
       "    <tr>\n",
       "      <th>3</th>\n",
       "      <td>46.364231</td>\n",
       "      <td>10.895524</td>\n",
       "      <td>825.407</td>\n",
       "      <td>1.400</td>\n",
       "      <td>56.40</td>\n",
       "      <td>60.476</td>\n",
       "      <td>81.03</td>\n",
       "    </tr>\n",
       "    <tr>\n",
       "      <th>4</th>\n",
       "      <td>46.365102</td>\n",
       "      <td>10.894322</td>\n",
       "      <td>831.750</td>\n",
       "      <td>6.343</td>\n",
       "      <td>133.74</td>\n",
       "      <td>66.819</td>\n",
       "      <td>214.77</td>\n",
       "    </tr>\n",
       "  </tbody>\n",
       "</table>\n",
       "</div>"
      ],
      "text/plain": [
       "    latitude  longitude  elevation  elevation_diff  distance  cum_elevation  \\\n",
       "0  46.363803  10.895592    764.931           0.000      0.00          0.000   \n",
       "1  46.363687  10.895473    805.761          40.830     15.80         40.830   \n",
       "2  46.363725  10.895574    824.007          18.246      8.83         59.076   \n",
       "3  46.364231  10.895524    825.407           1.400     56.40         60.476   \n",
       "4  46.365102  10.894322    831.750           6.343    133.74         66.819   \n",
       "\n",
       "   cum_distance  \n",
       "0          0.00  \n",
       "1         15.80  \n",
       "2         24.63  \n",
       "3         81.03  \n",
       "4        214.77  "
      ]
     },
     "execution_count": 78,
     "metadata": {},
     "output_type": "execute_result"
    }
   ],
   "source": [
    "route_df['cum_elevation'] = route_df['elevation_diff'].cumsum()\n",
    "route_df['cum_distance'] = route_df['distance'].cumsum()\n",
    "\n",
    "route_df = route_df.fillna(0) # replace NANs with zero\n",
    "route_df.head()"
   ]
  },
  {
   "cell_type": "code",
   "execution_count": 89,
   "metadata": {},
   "outputs": [],
   "source": [
    "route_df.to_csv(file_path[:-4] + '-new.csv', index=False) # save the new df to csv"
   ]
  },
  {
   "cell_type": "code",
   "execution_count": 97,
   "metadata": {},
   "outputs": [
    {
     "data": {
      "image/png": "[encoded data removed]",
      "text/plain": [
       "<Figure size 640x480 with 1 Axes>"
      ]
     },
     "metadata": {},
     "output_type": "display_data"
    }
   ],
   "source": [
    "plt.plot(route_df['cum_distance'], route_df['cum_elevation'], color='#101010', lw=3)\n",
    "plt.title('Route elevation profile', size=20)\n",
    "plt.xlabel('Distance in meters', size=14)\n",
    "plt.ylabel('Elevation in meters', size=14);\n",
    "# plt.savefig('fig.jpg', dpi=300, bbox_inches='tight')"
   ]
  },
  {
   "cell_type": "code",
   "execution_count": null,
   "metadata": {},
   "outputs": [],
   "source": []
  },
  {
   "cell_type": "code",
   "execution_count": null,
   "metadata": {},
   "outputs": [],
   "source": []
  }
 ],
 "metadata": {
  "kernelspec": {
   "display_name": "Python 3",
   "language": "python",
   "name": "python3"
  },
  "language_info": {
   "codemirror_mode": {
    "name": "ipython",
    "version": 3
   },
   "file_extension": ".py",
   "mimetype": "text/x-python",
   "name": "python",
   "nbconvert_exporter": "python",
   "pygments_lexer": "ipython3",
   "version": "3.11.4"
  },
  "orig_nbformat": 4
 },
 "nbformat": 4,
 "nbformat_minor": 2
}
