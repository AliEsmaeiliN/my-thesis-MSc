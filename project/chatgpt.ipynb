{
 "cells": [
  {
   "cell_type": "code",
   "execution_count": 1,
   "metadata": {},
   "outputs": [],
   "source": [
    "# !pip install openai\n",
    "import openai\n",
    "import os\n",
    "from dotenv import load_dotenv, find_dotenv\n",
    "_ = load_dotenv(find_dotenv())\n",
    "\n",
    "# Access the API key using the key name specified in the .env file\n",
    "openai.api_key  = os.getenv('OPENAI_API_KEY')"
   ]
  },
  {
   "cell_type": "code",
   "execution_count": 2,
   "metadata": {},
   "outputs": [],
   "source": [
    "def get_completion(prompt, model=\"gpt-3.5-turbo\"):\n",
    "    messages = [{\"role\": \"user\", \"content\": prompt}]\n",
    "    response = openai.ChatCompletion.create(\n",
    "        model=model,\n",
    "        messages=messages,\n",
    "        temperature=0, # this is the degree of randomness of the model's output\n",
    "    )\n",
    "    return response.choices[0].message[\"content\"]\n",
    "    "
   ]
  },
  {
   "cell_type": "code",
   "execution_count": 3,
   "metadata": {},
   "outputs": [
    {
     "name": "stdout",
     "output_type": "stream",
     "text": [
      "It's great that you want to make your girlfriend happy and improve your romantic gestures. Here are some suggestions to help you become more romantic:\n",
      "\n",
      "1. Communicate: Talk to your girlfriend about her expectations and what she considers romantic. Understanding her needs and desires is crucial for making her happy.\n",
      "\n",
      "2. Surprise gestures: Plan surprises for her, such as leaving sweet notes, sending flowers, or preparing her favorite meal. Small, thoughtful gestures can go a long way in showing your love and affection.\n",
      "\n",
      "3. Quality time: Dedicate quality time to your girlfriend. Plan dates, outings, or activities that she enjoys. Show genuine interest in her hobbies and passions.\n",
      "\n",
      "4. Listen actively: Pay attention to her thoughts, feelings, and concerns. Show empathy and understanding when she shares something with you. This will make her feel valued and loved.\n",
      "\n",
      "5. Compliments and appreciation: Express your admiration for her. Compliment her appearance, personality, or achievements. Show appreciation for the things she does for you.\n",
      "\n",
      "6. Physical affection: Physical touch is an important aspect of romance. Hold her hand, hug her, or give her gentle kisses. Physical intimacy can strengthen your bond.\n",
      "\n",
      "7. Plan a romantic getaway: Surprise her with a weekend trip or a special vacation. Spending quality time together in a new environment can reignite the romance.\n",
      "\n",
      "8. Be attentive: Pay attention to the little things that matter to her. Remember important dates, anniversaries, or events. Show that you care by being attentive and thoughtful.\n",
      "\n",
      "9. Support her dreams: Encourage her aspirations and be her biggest cheerleader. Help her achieve her goals and be there for her during challenging times.\n",
      "\n",
      "10. Be patient and consistent: Changing habits takes time, so be patient with yourself. Consistency is key in maintaining a romantic relationship. Make an effort to incorporate these gestures into your daily life.\n",
      "\n",
      "Remember, every person is unique, so it's essential to tailor your romantic gestures to your girlfriend's preferences. Open communication and a genuine desire to make her happy will go a long way in strengthening your relationship.\n"
     ]
    }
   ],
   "source": [
    "text = f\"\"\"\n",
    "You should express what you want a model to do by \\ \n",
    "providing instructions that are as clear and \\ \n",
    "specific as you can possibly make them. \\ \n",
    "This will guide the model towards the desired output, \\ \n",
    "and reduce the chances of receiving irrelevant \\ \n",
    "or incorrect responses. Don't confuse writing a \\ \n",
    "clear prompt with writing a short prompt. \\ \n",
    "In many cases, longer prompts provide more clarity \\ \n",
    "and context for the model, which can lead to \\ \n",
    "more detailed and relevant outputs.\n",
    "\"\"\"\n",
    "\n",
    "\n",
    "prompt = f\"\"\"\n",
    "Summarize the text delimited by triple backticks \\ \n",
    "into a single sentence.\n",
    "```{text}```\n",
    "\"\"\"\n",
    "response = get_completion(prompt)\n",
    "print(response)"
   ]
  },
  {
   "cell_type": "code",
   "execution_count": 4,
   "metadata": {},
   "outputs": [
    {
     "name": "stdout",
     "output_type": "stream",
     "text": [
      "{\n",
      "  \"books\": [\n",
      "    {\n",
      "      \"book_id\": 1,\n",
      "      \"title\": \"The Enigma of Elysium\",\n",
      "      \"author\": \"Evelyn Sinclair\",\n",
      "      \"genre\": \"Mystery\"\n",
      "    },\n",
      "    {\n",
      "      \"book_id\": 2,\n",
      "      \"title\": \"Whispers in the Wind\",\n",
      "      \"author\": \"Nathaniel Blackwood\",\n",
      "      \"genre\": \"Fantasy\"\n",
      "    },\n",
      "    {\n",
      "      \"book_id\": 3,\n",
      "      \"title\": \"Echoes of the Past\",\n",
      "      \"author\": \"Amelia Hart\",\n",
      "      \"genre\": \"Romance\"\n",
      "    }\n",
      "  ]\n",
      "}\n"
     ]
    }
   ],
   "source": [
    "prompt = f\"\"\"\n",
    "Generate a list of three made-up book titles along \\ \n",
    "with their authors and genres. \n",
    "Provide them in JSON format with the following keys: \n",
    "book_id, title, author, genre.\n",
    "\"\"\"\n",
    "response = get_completion(prompt)\n",
    "print(response)"
   ]
  }
 ],
 "metadata": {
  "kernelspec": {
   "display_name": "env",
   "language": "python",
   "name": "python3"
  },
  "language_info": {
   "codemirror_mode": {
    "name": "ipython",
    "version": 3
   },
   "file_extension": ".py",
   "mimetype": "text/x-python",
   "name": "python",
   "nbconvert_exporter": "python",
   "pygments_lexer": "ipython3",
   "version": "3.11.4"
  },
  "orig_nbformat": 4
 },
 "nbformat": 4,
 "nbformat_minor": 2
}
