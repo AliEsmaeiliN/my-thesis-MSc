{
 "cells": [
  {
   "cell_type": "code",
   "execution_count": 1,
   "metadata": {},
   "outputs": [],
   "source": [
    "import pandas as pd\n",
    "from sklearn.model_selection import train_test_split\n",
    "from sklearn import linear_model\n",
    "from sklearn.ensemble import RandomForestClassifier\n",
    "from sklearn.metrics import accuracy_score\n",
    "import os\n",
    "import numpy as np\n",
    "from sklearn.model_selection import cross_val_score"
   ]
  },
  {
   "cell_type": "code",
   "execution_count": 2,
   "metadata": {},
   "outputs": [
    {
     "data": {
      "text/html": [
       "<div>\n",
       "<style scoped>\n",
       "    .dataframe tbody tr th:only-of-type {\n",
       "        vertical-align: middle;\n",
       "    }\n",
       "\n",
       "    .dataframe tbody tr th {\n",
       "        vertical-align: top;\n",
       "    }\n",
       "\n",
       "    .dataframe thead th {\n",
       "        text-align: right;\n",
       "    }\n",
       "</style>\n",
       "<table border=\"1\" class=\"dataframe\">\n",
       "  <thead>\n",
       "    <tr style=\"text-align: right;\">\n",
       "      <th></th>\n",
       "      <th>latitude</th>\n",
       "      <th>longitude</th>\n",
       "      <th>altitude</th>\n",
       "      <th>altitude_diff</th>\n",
       "      <th>relative_elevation</th>\n",
       "      <th>distance</th>\n",
       "      <th>cum_distance</th>\n",
       "      <th>speed</th>\n",
       "      <th>lift?</th>\n",
       "      <th>lift_path</th>\n",
       "    </tr>\n",
       "  </thead>\n",
       "  <tbody>\n",
       "    <tr>\n",
       "      <th>count</th>\n",
       "      <td>246395.000000</td>\n",
       "      <td>246395.000000</td>\n",
       "      <td>246395.000000</td>\n",
       "      <td>246395.000000</td>\n",
       "      <td>246395.000000</td>\n",
       "      <td>246395.000000</td>\n",
       "      <td>246395.000000</td>\n",
       "      <td>246395.000000</td>\n",
       "      <td>246395.000000</td>\n",
       "      <td>246395.000000</td>\n",
       "    </tr>\n",
       "    <tr>\n",
       "      <th>mean</th>\n",
       "      <td>46.183239</td>\n",
       "      <td>10.960967</td>\n",
       "      <td>1266.506680</td>\n",
       "      <td>-0.012680</td>\n",
       "      <td>262.499626</td>\n",
       "      <td>20.348112</td>\n",
       "      <td>26.923287</td>\n",
       "      <td>3.852743</td>\n",
       "      <td>0.000244</td>\n",
       "      <td>0.000467</td>\n",
       "    </tr>\n",
       "    <tr>\n",
       "      <th>std</th>\n",
       "      <td>0.078900</td>\n",
       "      <td>0.085127</td>\n",
       "      <td>424.490643</td>\n",
       "      <td>8.237209</td>\n",
       "      <td>426.892697</td>\n",
       "      <td>62.215384</td>\n",
       "      <td>19.580102</td>\n",
       "      <td>3.565807</td>\n",
       "      <td>0.015603</td>\n",
       "      <td>0.021599</td>\n",
       "    </tr>\n",
       "    <tr>\n",
       "      <th>min</th>\n",
       "      <td>45.884029</td>\n",
       "      <td>10.510484</td>\n",
       "      <td>30.000000</td>\n",
       "      <td>-947.250000</td>\n",
       "      <td>-1159.211000</td>\n",
       "      <td>0.000000</td>\n",
       "      <td>0.000000</td>\n",
       "      <td>0.000000</td>\n",
       "      <td>0.000000</td>\n",
       "      <td>0.000000</td>\n",
       "    </tr>\n",
       "    <tr>\n",
       "      <th>25%</th>\n",
       "      <td>46.142949</td>\n",
       "      <td>10.942188</td>\n",
       "      <td>1004.839000</td>\n",
       "      <td>-0.827000</td>\n",
       "      <td>-1.674500</td>\n",
       "      <td>4.640000</td>\n",
       "      <td>11.217755</td>\n",
       "      <td>1.762172</td>\n",
       "      <td>0.000000</td>\n",
       "      <td>0.000000</td>\n",
       "    </tr>\n",
       "    <tr>\n",
       "      <th>50%</th>\n",
       "      <td>46.156417</td>\n",
       "      <td>10.989996</td>\n",
       "      <td>1247.733000</td>\n",
       "      <td>-0.011000</td>\n",
       "      <td>198.208000</td>\n",
       "      <td>7.030000</td>\n",
       "      <td>23.207870</td>\n",
       "      <td>3.065000</td>\n",
       "      <td>0.000000</td>\n",
       "      <td>0.000000</td>\n",
       "    </tr>\n",
       "    <tr>\n",
       "      <th>75%</th>\n",
       "      <td>46.183007</td>\n",
       "      <td>11.015397</td>\n",
       "      <td>1544.059500</td>\n",
       "      <td>0.607000</td>\n",
       "      <td>532.154500</td>\n",
       "      <td>12.520000</td>\n",
       "      <td>39.206765</td>\n",
       "      <td>5.215893</td>\n",
       "      <td>0.000000</td>\n",
       "      <td>0.000000</td>\n",
       "    </tr>\n",
       "    <tr>\n",
       "      <th>max</th>\n",
       "      <td>46.551682</td>\n",
       "      <td>11.115855</td>\n",
       "      <td>2625.868000</td>\n",
       "      <td>833.319000</td>\n",
       "      <td>1867.893000</td>\n",
       "      <td>12552.920000</td>\n",
       "      <td>107.941840</td>\n",
       "      <td>739.370000</td>\n",
       "      <td>1.000000</td>\n",
       "      <td>1.000000</td>\n",
       "    </tr>\n",
       "  </tbody>\n",
       "</table>\n",
       "</div>"
      ],
      "text/plain": [
       "            latitude      longitude       altitude  altitude_diff  \\\n",
       "count  246395.000000  246395.000000  246395.000000  246395.000000   \n",
       "mean       46.183239      10.960967    1266.506680      -0.012680   \n",
       "std         0.078900       0.085127     424.490643       8.237209   \n",
       "min        45.884029      10.510484      30.000000    -947.250000   \n",
       "25%        46.142949      10.942188    1004.839000      -0.827000   \n",
       "50%        46.156417      10.989996    1247.733000      -0.011000   \n",
       "75%        46.183007      11.015397    1544.059500       0.607000   \n",
       "max        46.551682      11.115855    2625.868000     833.319000   \n",
       "\n",
       "       relative_elevation       distance   cum_distance          speed  \\\n",
       "count       246395.000000  246395.000000  246395.000000  246395.000000   \n",
       "mean           262.499626      20.348112      26.923287       3.852743   \n",
       "std            426.892697      62.215384      19.580102       3.565807   \n",
       "min          -1159.211000       0.000000       0.000000       0.000000   \n",
       "25%             -1.674500       4.640000      11.217755       1.762172   \n",
       "50%            198.208000       7.030000      23.207870       3.065000   \n",
       "75%            532.154500      12.520000      39.206765       5.215893   \n",
       "max           1867.893000   12552.920000     107.941840     739.370000   \n",
       "\n",
       "               lift?      lift_path  \n",
       "count  246395.000000  246395.000000  \n",
       "mean        0.000244       0.000467  \n",
       "std         0.015603       0.021599  \n",
       "min         0.000000       0.000000  \n",
       "25%         0.000000       0.000000  \n",
       "50%         0.000000       0.000000  \n",
       "75%         0.000000       0.000000  \n",
       "max         1.000000       1.000000  "
      ]
     },
     "execution_count": 2,
     "metadata": {},
     "output_type": "execute_result"
    }
   ],
   "source": [
    "# Load data from multiple CSV files\n",
    "csv_dir = './data/csv_train/'\n",
    "file_paths = os.listdir(csv_dir)\n",
    "\n",
    "data_frames = [pd.read_csv(f'./data/csv_train/{file_path}')\n",
    "               for file_path in file_paths]\n",
    "combined_data = pd.concat(data_frames, ignore_index=False)\n",
    "\n",
    "# combined_data.replace([np.inf, -np.inf], 5, inplace=True)\n",
    "df = combined_data[combined_data['speed'] == np.inf]\n",
    "combined_data.describe()\n"
   ]
  },
  {
   "cell_type": "code",
   "execution_count": 3,
   "metadata": {},
   "outputs": [],
   "source": [
    "# test\n",
    "combined_data = pd.read_csv('./data/csv_train/bear-trail.csv')\n"
   ]
  },
  {
   "cell_type": "code",
   "execution_count": 4,
   "metadata": {},
   "outputs": [
    {
     "name": "stdout",
     "output_type": "stream",
     "text": [
      "the entire dataset's shape: (1765, 11)\n",
      "x_train shape: (1412, 2)\n",
      "x_test shape: (353,)\n"
     ]
    }
   ],
   "source": [
    "# Select relevant features (columns)\n",
    "# features = ['distance', 'altitude_diff']\n",
    "features = ['distance', 'altitude_diff']\n",
    "# Define the target column\n",
    "target = 'lift?'\n",
    "\n",
    "X = combined_data[features]\n",
    "y = combined_data[target]\n",
    "\n",
    "# Split data into training and testing sets\n",
    "X_train, X_test, y_train, y_test = train_test_split(\n",
    "    X, y, test_size=0.2, random_state=42)\n",
    "\n",
    "\n",
    "# Display the shape of the training and testing sets\n",
    "print('the entire dataset\\'s shape:', combined_data.shape)\n",
    "print('x_train shape:', X_train.shape)\n",
    "print('x_test shape:', y_test.shape)"
   ]
  },
  {
   "cell_type": "code",
   "execution_count": 5,
   "metadata": {},
   "outputs": [
    {
     "data": {
      "text/plain": [
       "1       1\n",
       "10      1\n",
       "202     1\n",
       "213     1\n",
       "1042    1\n",
       "1240    1\n",
       "Name: lift?, dtype: int64"
      ]
     },
     "execution_count": 5,
     "metadata": {},
     "output_type": "execute_result"
    }
   ],
   "source": [
    "y = combined_data[target]\n",
    "y[y == 1]\n"
   ]
  },
  {
   "cell_type": "code",
   "execution_count": 6,
   "metadata": {},
   "outputs": [
    {
     "data": {
      "text/html": [
       "<div>\n",
       "<style scoped>\n",
       "    .dataframe tbody tr th:only-of-type {\n",
       "        vertical-align: middle;\n",
       "    }\n",
       "\n",
       "    .dataframe tbody tr th {\n",
       "        vertical-align: top;\n",
       "    }\n",
       "\n",
       "    .dataframe thead th {\n",
       "        text-align: right;\n",
       "    }\n",
       "</style>\n",
       "<table border=\"1\" class=\"dataframe\">\n",
       "  <thead>\n",
       "    <tr style=\"text-align: right;\">\n",
       "      <th></th>\n",
       "      <th>Unnamed: 0</th>\n",
       "      <th>n</th>\n",
       "      <th>sum_of_n</th>\n",
       "    </tr>\n",
       "  </thead>\n",
       "  <tbody>\n",
       "    <tr>\n",
       "      <th>count</th>\n",
       "      <td>21.000000</td>\n",
       "      <td>21.000000</td>\n",
       "      <td>21.000000</td>\n",
       "    </tr>\n",
       "    <tr>\n",
       "      <th>mean</th>\n",
       "      <td>10.000000</td>\n",
       "      <td>2.857143</td>\n",
       "      <td>2.738095</td>\n",
       "    </tr>\n",
       "    <tr>\n",
       "      <th>std</th>\n",
       "      <td>6.204837</td>\n",
       "      <td>1.768777</td>\n",
       "      <td>1.757975</td>\n",
       "    </tr>\n",
       "    <tr>\n",
       "      <th>min</th>\n",
       "      <td>0.000000</td>\n",
       "      <td>1.000000</td>\n",
       "      <td>1.000000</td>\n",
       "    </tr>\n",
       "    <tr>\n",
       "      <th>25%</th>\n",
       "      <td>5.000000</td>\n",
       "      <td>1.000000</td>\n",
       "      <td>1.000000</td>\n",
       "    </tr>\n",
       "    <tr>\n",
       "      <th>50%</th>\n",
       "      <td>10.000000</td>\n",
       "      <td>3.000000</td>\n",
       "      <td>2.500000</td>\n",
       "    </tr>\n",
       "    <tr>\n",
       "      <th>75%</th>\n",
       "      <td>15.000000</td>\n",
       "      <td>4.000000</td>\n",
       "      <td>4.000000</td>\n",
       "    </tr>\n",
       "    <tr>\n",
       "      <th>max</th>\n",
       "      <td>20.000000</td>\n",
       "      <td>6.000000</td>\n",
       "      <td>6.000000</td>\n",
       "    </tr>\n",
       "  </tbody>\n",
       "</table>\n",
       "</div>"
      ],
      "text/plain": [
       "       Unnamed: 0          n   sum_of_n\n",
       "count   21.000000  21.000000  21.000000\n",
       "mean    10.000000   2.857143   2.738095\n",
       "std      6.204837   1.768777   1.757975\n",
       "min      0.000000   1.000000   1.000000\n",
       "25%      5.000000   1.000000   1.000000\n",
       "50%     10.000000   3.000000   2.500000\n",
       "75%     15.000000   4.000000   4.000000\n",
       "max     20.000000   6.000000   6.000000"
      ]
     },
     "execution_count": 6,
     "metadata": {},
     "output_type": "execute_result"
    }
   ],
   "source": [
    "report = pd.read_csv(f'./data/report.csv')\n",
    "report.describe()\n"
   ]
  },
  {
   "attachments": {},
   "cell_type": "markdown",
   "metadata": {},
   "source": [
    "## RF\n"
   ]
  },
  {
   "cell_type": "code",
   "execution_count": 7,
   "metadata": {},
   "outputs": [
    {
     "name": "stdout",
     "output_type": "stream",
     "text": [
      "Accuracy: 1.0\n"
     ]
    }
   ],
   "source": [
    "# Initialize and train the Random Forest model\n",
    "model_rf = RandomForestClassifier(n_estimators=100, random_state=42)\n",
    "model_rf.fit(X_train, y_train)\n",
    "\n",
    "# Make predictions on the testing set\n",
    "y_pred = model_rf.predict(X_test)\n",
    "\n",
    "# Evaluate the model's performance\n",
    "accuracy = accuracy_score(y_test, y_pred)\n",
    "print(\"Accuracy:\", accuracy)"
   ]
  },
  {
   "attachments": {},
   "cell_type": "markdown",
   "metadata": {},
   "source": [
    "#### Cross validation\n"
   ]
  },
  {
   "cell_type": "code",
   "execution_count": 8,
   "metadata": {},
   "outputs": [
    {
     "name": "stdout",
     "output_type": "stream",
     "text": [
      "Cross-validation Scores: [1.         0.99716714 1.         1.         1.        ]\n",
      "Mean Accuracy: 0.9994334277620396\n"
     ]
    }
   ],
   "source": [
    "# Create a Random Forest classifier\n",
    "rf_model = RandomForestClassifier(n_estimators=100, random_state=42)\n",
    "\n",
    "# Perform cross-validation with 5 folds\n",
    "cross_val_scores = cross_val_score(rf_model, X, y, cv=5, scoring='accuracy')\n",
    "\n",
    "# Print the cross-validation scores\n",
    "print(\"Cross-validation Scores:\", cross_val_scores)\n",
    "print(\"Mean Accuracy:\", cross_val_scores.mean())"
   ]
  },
  {
   "attachments": {},
   "cell_type": "markdown",
   "metadata": {},
   "source": [
    "## NN\n"
   ]
  },
  {
   "cell_type": "code",
   "execution_count": 9,
   "metadata": {},
   "outputs": [
    {
     "name": "stdout",
     "output_type": "stream",
     "text": [
      "Cross-validation scores:  [0.98583569 0.98583569 0.98016997 0.99433428 0.99150142]\n",
      "Test set score:  0.9915014164305949\n"
     ]
    }
   ],
   "source": [
    "from sklearn.neural_network import MLPClassifier\n",
    "\n",
    "# Create neural network model\n",
    "model = MLPClassifier(hidden_layer_sizes=(\n",
    "    6,), activation='relu', solver='adam', random_state=1)\n",
    "\n",
    "# Perform 5-fold cross validation\n",
    "scores = cross_val_score(model, X, y, cv=5)\n",
    "print(\"Cross-validation scores: \", scores)\n",
    "\n",
    "# Train model on training set\n",
    "model.fit(X_train, y_train)\n",
    "\n",
    "# Evaluate model performance on test set\n",
    "print(\"Test set score: \", model.score(X_test, y_test))"
   ]
  },
  {
   "cell_type": "code",
   "execution_count": 10,
   "metadata": {},
   "outputs": [],
   "source": [
    "# L2 regularization\n",
    "# model = MLPClassifier(alpha=0.001)\n",
    "\n",
    "model = MLPClassifier(hidden_layer_sizes=(\n",
    "    100,), activation='relu', solver='adam', alpha=0.001, random_state=1)\n",
    "# model.add(Dropout(0.5))"
   ]
  },
  {
   "cell_type": "code",
   "execution_count": null,
   "metadata": {},
   "outputs": [],
   "source": []
  }
 ],
 "metadata": {
  "kernelspec": {
   "display_name": "base",
   "language": "python",
   "name": "python3"
  },
  "language_info": {
   "codemirror_mode": {
    "name": "ipython",
    "version": 3
   },
   "file_extension": ".py",
   "mimetype": "text/x-python",
   "name": "python",
   "nbconvert_exporter": "python",
   "pygments_lexer": "ipython3",
   "version": "3.11.3"
  },
  "orig_nbformat": 4
 },
 "nbformat": 4,
 "nbformat_minor": 2
}
