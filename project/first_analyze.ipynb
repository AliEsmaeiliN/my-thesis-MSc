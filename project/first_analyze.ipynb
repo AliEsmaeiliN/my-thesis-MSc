{
 "cells": [
  {
   "cell_type": "code",
   "execution_count": 39,
   "metadata": {},
   "outputs": [],
   "source": [
    "import gpxpy\n",
    "import gpxpy.gpx\n",
    "import numpy as np\n",
    "import haversine as hs\n",
    "\n",
    "\n",
    "import pandas as pd\n",
    "import matplotlib.pyplot as plt\n",
    "plt.rcParams['axes.spines.top'] = False\n",
    "plt.rcParams['axes.spines.right'] = False"
   ]
  },
  {
   "cell_type": "code",
   "execution_count": 40,
   "metadata": {},
   "outputs": [
    {
     "data": {
      "text/plain": [
       "10578"
      ]
     },
     "execution_count": 40,
     "metadata": {},
     "output_type": "execute_result"
    }
   ],
   "source": [
    "file_path = 'data/gpx/paganella-bike-park.gpx'\n",
    "with open(file_path, 'r') as gpx_file:\n",
    "    gpx = gpxpy.parse(gpx_file)\n",
    "\n",
    "# * Get the number of data points (number of times geolocation was taken):\n",
    "gpx.get_track_points_no()\n"
   ]
  },
  {
   "cell_type": "code",
   "execution_count": 41,
   "metadata": {},
   "outputs": [
    {
     "data": {
      "text/plain": [
       "UphillDownhill(uphill=3551.394399999996, downhill=4146.4083999999975)"
      ]
     },
     "execution_count": 41,
     "metadata": {},
     "output_type": "execute_result"
    }
   ],
   "source": [
    "# Get the number of meters of uphil and downhil ride\n",
    "# It's a roundtrip, so the numbers are almost identical\n",
    "gpx.get_uphill_downhill()"
   ]
  },
  {
   "cell_type": "code",
   "execution_count": 42,
   "metadata": {},
   "outputs": [
    {
     "data": {
      "text/plain": [
       "GPXTrack(name='Paganella bike park', segments=[GPXTrackSegment(points=[...])])"
      ]
     },
     "execution_count": 42,
     "metadata": {},
     "output_type": "execute_result"
    }
   ],
   "source": [
    "gpx.tracks[0]"
   ]
  },
  {
   "cell_type": "code",
   "execution_count": 43,
   "metadata": {},
   "outputs": [
    {
     "data": {
      "text/plain": [
       "[GPXTrackPoint(46.156385, 10.955038, elevation=1524.084, time=datetime.datetime(2022, 10, 2, 9, 46, 55, tzinfo=SimpleTZ(\"Z\"))),\n",
       " GPXTrackPoint(46.156384, 10.95504, elevation=1521.207, time=datetime.datetime(2022, 10, 2, 9, 46, 56, tzinfo=SimpleTZ(\"Z\"))),\n",
       " GPXTrackPoint(46.156368, 10.955054, elevation=1521.017, time=datetime.datetime(2022, 10, 2, 9, 46, 59, tzinfo=SimpleTZ(\"Z\"))),\n",
       " GPXTrackPoint(46.156375, 10.95506, elevation=1521.209, time=datetime.datetime(2022, 10, 2, 9, 47, 4, tzinfo=SimpleTZ(\"Z\"))),\n",
       " GPXTrackPoint(46.156371, 10.955066, elevation=1521.279, time=datetime.datetime(2022, 10, 2, 9, 47, 6, tzinfo=SimpleTZ(\"Z\"))),\n",
       " GPXTrackPoint(46.156365, 10.955067, elevation=1521.259, time=datetime.datetime(2022, 10, 2, 9, 47, 7, tzinfo=SimpleTZ(\"Z\"))),\n",
       " GPXTrackPoint(46.156363, 10.955067, elevation=1521.293, time=datetime.datetime(2022, 10, 2, 9, 47, 8, tzinfo=SimpleTZ(\"Z\"))),\n",
       " GPXTrackPoint(46.156357, 10.955098, elevation=1521.269, time=datetime.datetime(2022, 10, 2, 9, 47, 11, tzinfo=SimpleTZ(\"Z\"))),\n",
       " GPXTrackPoint(46.156358, 10.955109, elevation=1521.216, time=datetime.datetime(2022, 10, 2, 9, 47, 12, tzinfo=SimpleTZ(\"Z\"))),\n",
       " GPXTrackPoint(46.15636, 10.955103, elevation=1521.294, time=datetime.datetime(2022, 10, 2, 9, 47, 13, tzinfo=SimpleTZ(\"Z\")))]"
      ]
     },
     "execution_count": 43,
     "metadata": {},
     "output_type": "execute_result"
    }
   ],
   "source": [
    "gpx.tracks[0].segments[0].points[:10]"
   ]
  },
  {
   "cell_type": "code",
   "execution_count": 44,
   "metadata": {},
   "outputs": [
    {
     "data": {
      "text/plain": [
       "[{'time': datetime.datetime(2022, 10, 2, 9, 46, 55, tzinfo=SimpleTZ(\"Z\")),\n",
       "  'latitude': 46.156385,\n",
       "  'longitude': 10.955038,\n",
       "  'altitude': 1524.084},\n",
       " {'time': datetime.datetime(2022, 10, 2, 9, 46, 56, tzinfo=SimpleTZ(\"Z\")),\n",
       "  'latitude': 46.156384,\n",
       "  'longitude': 10.95504,\n",
       "  'altitude': 1521.207},\n",
       " {'time': datetime.datetime(2022, 10, 2, 9, 46, 59, tzinfo=SimpleTZ(\"Z\")),\n",
       "  'latitude': 46.156368,\n",
       "  'longitude': 10.955054,\n",
       "  'altitude': 1521.017}]"
      ]
     },
     "execution_count": 44,
     "metadata": {},
     "output_type": "execute_result"
    }
   ],
   "source": [
    "route_info = []\n",
    "\n",
    "for track in gpx.tracks:\n",
    "    for segment in track.segments:\n",
    "        for point in segment.points:\n",
    "            route_info.append({\n",
    "                'time': point.time,\n",
    "                'latitude': point.latitude,\n",
    "                'longitude': point.longitude,\n",
    "                'altitude': point.elevation\n",
    "            })\n",
    "route_info[:3]"
   ]
  },
  {
   "cell_type": "code",
   "execution_count": 45,
   "metadata": {},
   "outputs": [
    {
     "data": {
      "text/html": [
       "<div>\n",
       "<style scoped>\n",
       "    .dataframe tbody tr th:only-of-type {\n",
       "        vertical-align: middle;\n",
       "    }\n",
       "\n",
       "    .dataframe tbody tr th {\n",
       "        vertical-align: top;\n",
       "    }\n",
       "\n",
       "    .dataframe thead th {\n",
       "        text-align: right;\n",
       "    }\n",
       "</style>\n",
       "<table border=\"1\" class=\"dataframe\">\n",
       "  <thead>\n",
       "    <tr style=\"text-align: right;\">\n",
       "      <th></th>\n",
       "      <th>time</th>\n",
       "      <th>latitude</th>\n",
       "      <th>longitude</th>\n",
       "      <th>altitude</th>\n",
       "    </tr>\n",
       "  </thead>\n",
       "  <tbody>\n",
       "    <tr>\n",
       "      <th>0</th>\n",
       "      <td>2022-10-02 09:46:55+00:00</td>\n",
       "      <td>46.156385</td>\n",
       "      <td>10.955038</td>\n",
       "      <td>1524.084</td>\n",
       "    </tr>\n",
       "    <tr>\n",
       "      <th>1</th>\n",
       "      <td>2022-10-02 09:46:56+00:00</td>\n",
       "      <td>46.156384</td>\n",
       "      <td>10.955040</td>\n",
       "      <td>1521.207</td>\n",
       "    </tr>\n",
       "    <tr>\n",
       "      <th>2</th>\n",
       "      <td>2022-10-02 09:46:59+00:00</td>\n",
       "      <td>46.156368</td>\n",
       "      <td>10.955054</td>\n",
       "      <td>1521.017</td>\n",
       "    </tr>\n",
       "    <tr>\n",
       "      <th>3</th>\n",
       "      <td>2022-10-02 09:47:04+00:00</td>\n",
       "      <td>46.156375</td>\n",
       "      <td>10.955060</td>\n",
       "      <td>1521.209</td>\n",
       "    </tr>\n",
       "    <tr>\n",
       "      <th>4</th>\n",
       "      <td>2022-10-02 09:47:06+00:00</td>\n",
       "      <td>46.156371</td>\n",
       "      <td>10.955066</td>\n",
       "      <td>1521.279</td>\n",
       "    </tr>\n",
       "  </tbody>\n",
       "</table>\n",
       "</div>"
      ],
      "text/plain": [
       "                       time   latitude  longitude  altitude\n",
       "0 2022-10-02 09:46:55+00:00  46.156385  10.955038  1524.084\n",
       "1 2022-10-02 09:46:56+00:00  46.156384  10.955040  1521.207\n",
       "2 2022-10-02 09:46:59+00:00  46.156368  10.955054  1521.017\n",
       "3 2022-10-02 09:47:04+00:00  46.156375  10.955060  1521.209\n",
       "4 2022-10-02 09:47:06+00:00  46.156371  10.955066  1521.279"
      ]
     },
     "execution_count": 45,
     "metadata": {},
     "output_type": "execute_result"
    }
   ],
   "source": [
    "route_df = pd.DataFrame(route_info)\n",
    "route_df.head()"
   ]
  },
  {
   "attachments": {},
   "cell_type": "markdown",
   "metadata": {},
   "source": [
    "##### 3- Calculate altitude difference\n"
   ]
  },
  {
   "cell_type": "code",
   "execution_count": 46,
   "metadata": {},
   "outputs": [
    {
     "data": {
      "text/html": [
       "<div>\n",
       "<style scoped>\n",
       "    .dataframe tbody tr th:only-of-type {\n",
       "        vertical-align: middle;\n",
       "    }\n",
       "\n",
       "    .dataframe tbody tr th {\n",
       "        vertical-align: top;\n",
       "    }\n",
       "\n",
       "    .dataframe thead th {\n",
       "        text-align: right;\n",
       "    }\n",
       "</style>\n",
       "<table border=\"1\" class=\"dataframe\">\n",
       "  <thead>\n",
       "    <tr style=\"text-align: right;\">\n",
       "      <th></th>\n",
       "      <th>time</th>\n",
       "      <th>latitude</th>\n",
       "      <th>longitude</th>\n",
       "      <th>altitude</th>\n",
       "      <th>altitude_diff</th>\n",
       "    </tr>\n",
       "  </thead>\n",
       "  <tbody>\n",
       "    <tr>\n",
       "      <th>0</th>\n",
       "      <td>2022-10-02 09:46:55+00:00</td>\n",
       "      <td>46.156385</td>\n",
       "      <td>10.955038</td>\n",
       "      <td>1524.084</td>\n",
       "      <td>NaN</td>\n",
       "    </tr>\n",
       "    <tr>\n",
       "      <th>1</th>\n",
       "      <td>2022-10-02 09:46:56+00:00</td>\n",
       "      <td>46.156384</td>\n",
       "      <td>10.955040</td>\n",
       "      <td>1521.207</td>\n",
       "      <td>-2.877</td>\n",
       "    </tr>\n",
       "    <tr>\n",
       "      <th>2</th>\n",
       "      <td>2022-10-02 09:46:59+00:00</td>\n",
       "      <td>46.156368</td>\n",
       "      <td>10.955054</td>\n",
       "      <td>1521.017</td>\n",
       "      <td>-0.190</td>\n",
       "    </tr>\n",
       "    <tr>\n",
       "      <th>3</th>\n",
       "      <td>2022-10-02 09:47:04+00:00</td>\n",
       "      <td>46.156375</td>\n",
       "      <td>10.955060</td>\n",
       "      <td>1521.209</td>\n",
       "      <td>0.192</td>\n",
       "    </tr>\n",
       "    <tr>\n",
       "      <th>4</th>\n",
       "      <td>2022-10-02 09:47:06+00:00</td>\n",
       "      <td>46.156371</td>\n",
       "      <td>10.955066</td>\n",
       "      <td>1521.279</td>\n",
       "      <td>0.070</td>\n",
       "    </tr>\n",
       "  </tbody>\n",
       "</table>\n",
       "</div>"
      ],
      "text/plain": [
       "                       time   latitude  longitude  altitude  altitude_diff\n",
       "0 2022-10-02 09:46:55+00:00  46.156385  10.955038  1524.084            NaN\n",
       "1 2022-10-02 09:46:56+00:00  46.156384  10.955040  1521.207         -2.877\n",
       "2 2022-10-02 09:46:59+00:00  46.156368  10.955054  1521.017         -0.190\n",
       "3 2022-10-02 09:47:04+00:00  46.156375  10.955060  1521.209          0.192\n",
       "4 2022-10-02 09:47:06+00:00  46.156371  10.955066  1521.279          0.070"
      ]
     },
     "execution_count": 46,
     "metadata": {},
     "output_type": "execute_result"
    }
   ],
   "source": [
    "route_df['altitude_diff'] = route_df['altitude'].diff()\n",
    "\n",
    "route_df.head()"
   ]
  },
  {
   "cell_type": "code",
   "execution_count": 47,
   "metadata": {},
   "outputs": [],
   "source": [
    "def haversine_distance(lat1, lon1, lat2, lon2) -> float:\n",
    "    distance = hs.haversine(\n",
    "        point1=(lat1, lon1),\n",
    "        point2=(lat2, lon2),\n",
    "        unit=hs.Unit.METERS\n",
    "    )\n",
    "    return np.round(distance, 2)"
   ]
  },
  {
   "attachments": {},
   "cell_type": "markdown",
   "metadata": {},
   "source": [
    "Calculate the distances between all data points\n"
   ]
  },
  {
   "cell_type": "code",
   "execution_count": 48,
   "metadata": {},
   "outputs": [
    {
     "data": {
      "text/html": [
       "<div>\n",
       "<style scoped>\n",
       "    .dataframe tbody tr th:only-of-type {\n",
       "        vertical-align: middle;\n",
       "    }\n",
       "\n",
       "    .dataframe tbody tr th {\n",
       "        vertical-align: top;\n",
       "    }\n",
       "\n",
       "    .dataframe thead th {\n",
       "        text-align: right;\n",
       "    }\n",
       "</style>\n",
       "<table border=\"1\" class=\"dataframe\">\n",
       "  <thead>\n",
       "    <tr style=\"text-align: right;\">\n",
       "      <th></th>\n",
       "      <th>time</th>\n",
       "      <th>latitude</th>\n",
       "      <th>longitude</th>\n",
       "      <th>altitude</th>\n",
       "      <th>altitude_diff</th>\n",
       "      <th>distance</th>\n",
       "      <th>speed</th>\n",
       "    </tr>\n",
       "  </thead>\n",
       "  <tbody>\n",
       "    <tr>\n",
       "      <th>0</th>\n",
       "      <td>2022-10-02 09:46:55+00:00</td>\n",
       "      <td>46.156385</td>\n",
       "      <td>10.955038</td>\n",
       "      <td>1524.084</td>\n",
       "      <td>NaN</td>\n",
       "      <td>NaN</td>\n",
       "      <td>NaN</td>\n",
       "    </tr>\n",
       "    <tr>\n",
       "      <th>1</th>\n",
       "      <td>2022-10-02 09:46:56+00:00</td>\n",
       "      <td>46.156384</td>\n",
       "      <td>10.955040</td>\n",
       "      <td>1521.207</td>\n",
       "      <td>-2.877</td>\n",
       "      <td>0.19</td>\n",
       "      <td>0.190000</td>\n",
       "    </tr>\n",
       "    <tr>\n",
       "      <th>2</th>\n",
       "      <td>2022-10-02 09:46:59+00:00</td>\n",
       "      <td>46.156368</td>\n",
       "      <td>10.955054</td>\n",
       "      <td>1521.017</td>\n",
       "      <td>-0.190</td>\n",
       "      <td>2.08</td>\n",
       "      <td>0.693333</td>\n",
       "    </tr>\n",
       "    <tr>\n",
       "      <th>3</th>\n",
       "      <td>2022-10-02 09:47:04+00:00</td>\n",
       "      <td>46.156375</td>\n",
       "      <td>10.955060</td>\n",
       "      <td>1521.209</td>\n",
       "      <td>0.192</td>\n",
       "      <td>0.91</td>\n",
       "      <td>0.182000</td>\n",
       "    </tr>\n",
       "    <tr>\n",
       "      <th>4</th>\n",
       "      <td>2022-10-02 09:47:06+00:00</td>\n",
       "      <td>46.156371</td>\n",
       "      <td>10.955066</td>\n",
       "      <td>1521.279</td>\n",
       "      <td>0.070</td>\n",
       "      <td>0.64</td>\n",
       "      <td>0.320000</td>\n",
       "    </tr>\n",
       "    <tr>\n",
       "      <th>...</th>\n",
       "      <td>...</td>\n",
       "      <td>...</td>\n",
       "      <td>...</td>\n",
       "      <td>...</td>\n",
       "      <td>...</td>\n",
       "      <td>...</td>\n",
       "      <td>...</td>\n",
       "    </tr>\n",
       "    <tr>\n",
       "      <th>10573</th>\n",
       "      <td>2022-10-02 16:57:54+00:00</td>\n",
       "      <td>46.144351</td>\n",
       "      <td>10.965109</td>\n",
       "      <td>928.883</td>\n",
       "      <td>0.274</td>\n",
       "      <td>0.68</td>\n",
       "      <td>0.340000</td>\n",
       "    </tr>\n",
       "    <tr>\n",
       "      <th>10574</th>\n",
       "      <td>2022-10-02 16:57:56+00:00</td>\n",
       "      <td>46.144371</td>\n",
       "      <td>10.965139</td>\n",
       "      <td>928.873</td>\n",
       "      <td>-0.010</td>\n",
       "      <td>3.21</td>\n",
       "      <td>1.605000</td>\n",
       "    </tr>\n",
       "    <tr>\n",
       "      <th>10575</th>\n",
       "      <td>2022-10-02 16:57:59+00:00</td>\n",
       "      <td>46.144381</td>\n",
       "      <td>10.965139</td>\n",
       "      <td>928.897</td>\n",
       "      <td>0.024</td>\n",
       "      <td>1.11</td>\n",
       "      <td>0.370000</td>\n",
       "    </tr>\n",
       "    <tr>\n",
       "      <th>10576</th>\n",
       "      <td>2022-10-02 16:58:01+00:00</td>\n",
       "      <td>46.144385</td>\n",
       "      <td>10.965150</td>\n",
       "      <td>929.043</td>\n",
       "      <td>0.146</td>\n",
       "      <td>0.96</td>\n",
       "      <td>0.480000</td>\n",
       "    </tr>\n",
       "    <tr>\n",
       "      <th>10577</th>\n",
       "      <td>2022-10-02 16:58:02+00:00</td>\n",
       "      <td>46.144383</td>\n",
       "      <td>10.965153</td>\n",
       "      <td>929.070</td>\n",
       "      <td>0.027</td>\n",
       "      <td>0.32</td>\n",
       "      <td>0.320000</td>\n",
       "    </tr>\n",
       "  </tbody>\n",
       "</table>\n",
       "<p>10578 rows × 7 columns</p>\n",
       "</div>"
      ],
      "text/plain": [
       "                           time   latitude  longitude  altitude  \\\n",
       "0     2022-10-02 09:46:55+00:00  46.156385  10.955038  1524.084   \n",
       "1     2022-10-02 09:46:56+00:00  46.156384  10.955040  1521.207   \n",
       "2     2022-10-02 09:46:59+00:00  46.156368  10.955054  1521.017   \n",
       "3     2022-10-02 09:47:04+00:00  46.156375  10.955060  1521.209   \n",
       "4     2022-10-02 09:47:06+00:00  46.156371  10.955066  1521.279   \n",
       "...                         ...        ...        ...       ...   \n",
       "10573 2022-10-02 16:57:54+00:00  46.144351  10.965109   928.883   \n",
       "10574 2022-10-02 16:57:56+00:00  46.144371  10.965139   928.873   \n",
       "10575 2022-10-02 16:57:59+00:00  46.144381  10.965139   928.897   \n",
       "10576 2022-10-02 16:58:01+00:00  46.144385  10.965150   929.043   \n",
       "10577 2022-10-02 16:58:02+00:00  46.144383  10.965153   929.070   \n",
       "\n",
       "       altitude_diff  distance     speed  \n",
       "0                NaN       NaN       NaN  \n",
       "1             -2.877      0.19  0.190000  \n",
       "2             -0.190      2.08  0.693333  \n",
       "3              0.192      0.91  0.182000  \n",
       "4              0.070      0.64  0.320000  \n",
       "...              ...       ...       ...  \n",
       "10573          0.274      0.68  0.340000  \n",
       "10574         -0.010      3.21  1.605000  \n",
       "10575          0.024      1.11  0.370000  \n",
       "10576          0.146      0.96  0.480000  \n",
       "10577          0.027      0.32  0.320000  \n",
       "\n",
       "[10578 rows x 7 columns]"
      ]
     },
     "execution_count": 48,
     "metadata": {},
     "output_type": "execute_result"
    }
   ],
   "source": [
    "haversine_distance(\n",
    "    lat1=route_df.iloc[0]['latitude'],\n",
    "    lon1=route_df.iloc[0]['longitude'],\n",
    "    lat2=route_df.iloc[1]['latitude'],\n",
    "    lon2=route_df.iloc[1]['longitude']\n",
    ")\n",
    "\n",
    "distances = [np.nan]\n",
    "speed = [np.nan]\n",
    "\n",
    "for i in range(1, len(route_df)):\n",
    "    distances.append(haversine_distance(\n",
    "        lat1=route_df.iloc[i - 1]['latitude'],\n",
    "        lon1=route_df.iloc[i - 1]['longitude'],\n",
    "        lat2=route_df.iloc[i]['latitude'],\n",
    "        lon2=route_df.iloc[i]['longitude']\n",
    "    ))\n",
    "\n",
    "    # #* speed\n",
    "    time_diff = (route_df.iloc[i].time - route_df.iloc[i - 1].time).seconds\n",
    "    speed.append(distances[i]/time_diff)\n",
    "\n",
    "\n",
    "route_df['distance'] = distances\n",
    "route_df['speed'] = speed\n",
    "route_df\n"
   ]
  },
  {
   "cell_type": "code",
   "execution_count": 49,
   "metadata": {},
   "outputs": [
    {
     "name": "stdout",
     "output_type": "stream",
     "text": [
      "Max altitude: 1785.289 m\n",
      "Total distance: 57.21757000000001 km\n"
     ]
    }
   ],
   "source": [
    "print('Max altitude:', (route_df['altitude']).max(), 'm')\n",
    "# print('v', route_df[route_df['altitude_diff'] <= 0]['altitude_diff'].sum())\n",
    "\n",
    "print('Total distance:', route_df['distance'].sum() / 1000, 'km')\n"
   ]
  },
  {
   "attachments": {
    "image.png": {
     "image/png": "[encoded data removed]"
    }
   },
   "cell_type": "markdown",
   "metadata": {},
   "source": [
    "![image.png](attachment:image.png)\n",
    "\n",
    "proof for <ins>alpes-8.gpx</ins>\n"
   ]
  },
  {
   "attachments": {},
   "cell_type": "markdown",
   "metadata": {},
   "source": [
    "##### Visualize the Elevation profile\n"
   ]
  },
  {
   "cell_type": "code",
   "execution_count": 50,
   "metadata": {},
   "outputs": [
    {
     "data": {
      "text/html": [
       "<div>\n",
       "<style scoped>\n",
       "    .dataframe tbody tr th:only-of-type {\n",
       "        vertical-align: middle;\n",
       "    }\n",
       "\n",
       "    .dataframe tbody tr th {\n",
       "        vertical-align: top;\n",
       "    }\n",
       "\n",
       "    .dataframe thead th {\n",
       "        text-align: right;\n",
       "    }\n",
       "</style>\n",
       "<table border=\"1\" class=\"dataframe\">\n",
       "  <thead>\n",
       "    <tr style=\"text-align: right;\">\n",
       "      <th></th>\n",
       "      <th>time</th>\n",
       "      <th>latitude</th>\n",
       "      <th>longitude</th>\n",
       "      <th>altitude</th>\n",
       "      <th>altitude_diff</th>\n",
       "      <th>distance</th>\n",
       "      <th>speed</th>\n",
       "      <th>relative_elevation</th>\n",
       "      <th>cum_distance</th>\n",
       "    </tr>\n",
       "  </thead>\n",
       "  <tbody>\n",
       "    <tr>\n",
       "      <th>0</th>\n",
       "      <td>2022-10-02 09:46:55+00:00</td>\n",
       "      <td>46.156385</td>\n",
       "      <td>10.955038</td>\n",
       "      <td>1524.084</td>\n",
       "      <td>0.000</td>\n",
       "      <td>0.00</td>\n",
       "      <td>0.000000</td>\n",
       "      <td>0.000</td>\n",
       "      <td>0.00000</td>\n",
       "    </tr>\n",
       "    <tr>\n",
       "      <th>1</th>\n",
       "      <td>2022-10-02 09:46:56+00:00</td>\n",
       "      <td>46.156384</td>\n",
       "      <td>10.955040</td>\n",
       "      <td>1521.207</td>\n",
       "      <td>-2.877</td>\n",
       "      <td>0.19</td>\n",
       "      <td>0.190000</td>\n",
       "      <td>-2.877</td>\n",
       "      <td>0.00019</td>\n",
       "    </tr>\n",
       "    <tr>\n",
       "      <th>2</th>\n",
       "      <td>2022-10-02 09:46:59+00:00</td>\n",
       "      <td>46.156368</td>\n",
       "      <td>10.955054</td>\n",
       "      <td>1521.017</td>\n",
       "      <td>-0.190</td>\n",
       "      <td>2.08</td>\n",
       "      <td>0.693333</td>\n",
       "      <td>-3.067</td>\n",
       "      <td>0.00227</td>\n",
       "    </tr>\n",
       "    <tr>\n",
       "      <th>3</th>\n",
       "      <td>2022-10-02 09:47:04+00:00</td>\n",
       "      <td>46.156375</td>\n",
       "      <td>10.955060</td>\n",
       "      <td>1521.209</td>\n",
       "      <td>0.192</td>\n",
       "      <td>0.91</td>\n",
       "      <td>0.182000</td>\n",
       "      <td>-2.875</td>\n",
       "      <td>0.00318</td>\n",
       "    </tr>\n",
       "    <tr>\n",
       "      <th>4</th>\n",
       "      <td>2022-10-02 09:47:06+00:00</td>\n",
       "      <td>46.156371</td>\n",
       "      <td>10.955066</td>\n",
       "      <td>1521.279</td>\n",
       "      <td>0.070</td>\n",
       "      <td>0.64</td>\n",
       "      <td>0.320000</td>\n",
       "      <td>-2.805</td>\n",
       "      <td>0.00382</td>\n",
       "    </tr>\n",
       "    <tr>\n",
       "      <th>...</th>\n",
       "      <td>...</td>\n",
       "      <td>...</td>\n",
       "      <td>...</td>\n",
       "      <td>...</td>\n",
       "      <td>...</td>\n",
       "      <td>...</td>\n",
       "      <td>...</td>\n",
       "      <td>...</td>\n",
       "      <td>...</td>\n",
       "    </tr>\n",
       "    <tr>\n",
       "      <th>10573</th>\n",
       "      <td>2022-10-02 16:57:54+00:00</td>\n",
       "      <td>46.144351</td>\n",
       "      <td>10.965109</td>\n",
       "      <td>928.883</td>\n",
       "      <td>0.274</td>\n",
       "      <td>0.68</td>\n",
       "      <td>0.340000</td>\n",
       "      <td>-595.201</td>\n",
       "      <td>57.21197</td>\n",
       "    </tr>\n",
       "    <tr>\n",
       "      <th>10574</th>\n",
       "      <td>2022-10-02 16:57:56+00:00</td>\n",
       "      <td>46.144371</td>\n",
       "      <td>10.965139</td>\n",
       "      <td>928.873</td>\n",
       "      <td>-0.010</td>\n",
       "      <td>3.21</td>\n",
       "      <td>1.605000</td>\n",
       "      <td>-595.211</td>\n",
       "      <td>57.21518</td>\n",
       "    </tr>\n",
       "    <tr>\n",
       "      <th>10575</th>\n",
       "      <td>2022-10-02 16:57:59+00:00</td>\n",
       "      <td>46.144381</td>\n",
       "      <td>10.965139</td>\n",
       "      <td>928.897</td>\n",
       "      <td>0.024</td>\n",
       "      <td>1.11</td>\n",
       "      <td>0.370000</td>\n",
       "      <td>-595.187</td>\n",
       "      <td>57.21629</td>\n",
       "    </tr>\n",
       "    <tr>\n",
       "      <th>10576</th>\n",
       "      <td>2022-10-02 16:58:01+00:00</td>\n",
       "      <td>46.144385</td>\n",
       "      <td>10.965150</td>\n",
       "      <td>929.043</td>\n",
       "      <td>0.146</td>\n",
       "      <td>0.96</td>\n",
       "      <td>0.480000</td>\n",
       "      <td>-595.041</td>\n",
       "      <td>57.21725</td>\n",
       "    </tr>\n",
       "    <tr>\n",
       "      <th>10577</th>\n",
       "      <td>2022-10-02 16:58:02+00:00</td>\n",
       "      <td>46.144383</td>\n",
       "      <td>10.965153</td>\n",
       "      <td>929.070</td>\n",
       "      <td>0.027</td>\n",
       "      <td>0.32</td>\n",
       "      <td>0.320000</td>\n",
       "      <td>-595.014</td>\n",
       "      <td>57.21757</td>\n",
       "    </tr>\n",
       "  </tbody>\n",
       "</table>\n",
       "<p>10578 rows × 9 columns</p>\n",
       "</div>"
      ],
      "text/plain": [
       "                           time   latitude  longitude  altitude  \\\n",
       "0     2022-10-02 09:46:55+00:00  46.156385  10.955038  1524.084   \n",
       "1     2022-10-02 09:46:56+00:00  46.156384  10.955040  1521.207   \n",
       "2     2022-10-02 09:46:59+00:00  46.156368  10.955054  1521.017   \n",
       "3     2022-10-02 09:47:04+00:00  46.156375  10.955060  1521.209   \n",
       "4     2022-10-02 09:47:06+00:00  46.156371  10.955066  1521.279   \n",
       "...                         ...        ...        ...       ...   \n",
       "10573 2022-10-02 16:57:54+00:00  46.144351  10.965109   928.883   \n",
       "10574 2022-10-02 16:57:56+00:00  46.144371  10.965139   928.873   \n",
       "10575 2022-10-02 16:57:59+00:00  46.144381  10.965139   928.897   \n",
       "10576 2022-10-02 16:58:01+00:00  46.144385  10.965150   929.043   \n",
       "10577 2022-10-02 16:58:02+00:00  46.144383  10.965153   929.070   \n",
       "\n",
       "       altitude_diff  distance     speed  relative_elevation  cum_distance  \n",
       "0              0.000      0.00  0.000000               0.000       0.00000  \n",
       "1             -2.877      0.19  0.190000              -2.877       0.00019  \n",
       "2             -0.190      2.08  0.693333              -3.067       0.00227  \n",
       "3              0.192      0.91  0.182000              -2.875       0.00318  \n",
       "4              0.070      0.64  0.320000              -2.805       0.00382  \n",
       "...              ...       ...       ...                 ...           ...  \n",
       "10573          0.274      0.68  0.340000            -595.201      57.21197  \n",
       "10574         -0.010      3.21  1.605000            -595.211      57.21518  \n",
       "10575          0.024      1.11  0.370000            -595.187      57.21629  \n",
       "10576          0.146      0.96  0.480000            -595.041      57.21725  \n",
       "10577          0.027      0.32  0.320000            -595.014      57.21757  \n",
       "\n",
       "[10578 rows x 9 columns]"
      ]
     },
     "execution_count": 50,
     "metadata": {},
     "output_type": "execute_result"
    }
   ],
   "source": [
    "route_df['relative_elevation'] = route_df['altitude_diff'].cumsum()\n",
    "route_df['cum_distance'] = route_df['distance'].cumsum()/1e3\n",
    "\n",
    "route_df = route_df.fillna(0)  # replace NANs with zero\n",
    "route_df\n"
   ]
  },
  {
   "cell_type": "code",
   "execution_count": 51,
   "metadata": {},
   "outputs": [],
   "source": [
    "def plot_route(df):\n",
    "    plt.figure(figsize=(19, 3))\n",
    "    plt.plot(df['cum_distance'] / 1000,\n",
    "             df['altitude'], color='#101010', lw=3)\n",
    "    plt.title('Route altitude profile', size=20)\n",
    "    plt.xlabel('Distance in km', size=14)\n",
    "    plt.ylabel('Altitude in meters', size=14)\n",
    "    # plt.savefig('fig.jpg', dpi=300, bbox_inches='tight') # save the figure\n"
   ]
  },
  {
   "cell_type": "code",
   "execution_count": 52,
   "metadata": {},
   "outputs": [
    {
     "data": {
      "image/png": "[encoded data removed]",
      "text/plain": [
       "<Figure size 1900x300 with 1 Axes>"
      ]
     },
     "metadata": {},
     "output_type": "display_data"
    }
   ],
   "source": [
    "plot_route(route_df)"
   ]
  },
  {
   "attachments": {
    "image.png": {
     "image/png": "[encoded data removed]"
    }
   },
   "cell_type": "markdown",
   "metadata": {},
   "source": [
    "![image.png](attachment:image.png)\n"
   ]
  },
  {
   "cell_type": "code",
   "execution_count": 53,
   "metadata": {},
   "outputs": [
    {
     "name": "stdout",
     "output_type": "stream",
     "text": [
      "------------------speed---------------\n",
      "count    10578.000000\n",
      "mean         3.926664\n",
      "std          3.282520\n",
      "min          0.000000\n",
      "25%          1.500000\n",
      "50%          3.075000\n",
      "75%          6.204583\n",
      "max        127.270000\n",
      "Name: speed, dtype: float64\n",
      "------------------distance---------------\n",
      "count    10578.000000\n",
      "mean         5.409110\n",
      "std         36.270568\n",
      "min          0.000000\n",
      "25%          1.600000\n",
      "50%          3.520000\n",
      "75%          6.920000\n",
      "max       2387.440000\n",
      "Name: distance, dtype: float64\n"
     ]
    }
   ],
   "source": [
    "print('------------------speed---------------')\n",
    "print(route_df['speed'].describe())\n",
    "print('------------------distance---------------')\n",
    "print(route_df['distance'].describe())"
   ]
  },
  {
   "cell_type": "code",
   "execution_count": 54,
   "metadata": {},
   "outputs": [
    {
     "name": "stdout",
     "output_type": "stream",
     "text": [
      "3171\n",
      "4671\n",
      "5165\n",
      "6624\n",
      "7734\n"
     ]
    },
    {
     "name": "stderr",
     "output_type": "stream",
     "text": [
      "/var/folders/61/dby95pn55tqdzyrv31gppc7c0000gn/T/ipykernel_48582/888917948.py:9: SettingWithCopyWarning: \n",
      "A value is trying to be set on a copy of a slice from a DataFrame\n",
      "\n",
      "See the caveats in the documentation: https://pandas.pydata.org/pandas-docs/stable/user_guide/indexing.html#returning-a-view-versus-a-copy\n",
      "  route_df['counter'][i] = counter\n"
     ]
    },
    {
     "data": {
      "text/plain": [
       "5"
      ]
     },
     "execution_count": 54,
     "metadata": {},
     "output_type": "execute_result"
    }
   ],
   "source": [
    "counter = 0\n",
    "route_df['counter'] = 0  # ? set the counter column to zero\n",
    "for i in range(len(route_df)):\n",
    "    # if route_df['altitude_diff'][i] < 1:\n",
    "    #     continue\n",
    "    if route_df['altitude_diff'][i] > 100:\n",
    "        counter += 1\n",
    "        print(i)\n",
    "    route_df['counter'][i] = counter\n",
    "\n",
    "    # print(route_df['altitude'][i])\n",
    "    # print('i',i)\n",
    "\n",
    "# save the new df to csv\n",
    "route_df.to_csv('./data/csv/' + file_path[9:-4] + '.csv', index=False)\n",
    "counter\n"
   ]
  },
  {
   "cell_type": "code",
   "execution_count": 55,
   "metadata": {},
   "outputs": [
    {
     "data": {
      "text/plain": [
       "431.1166666666667"
      ]
     },
     "execution_count": 55,
     "metadata": {},
     "output_type": "execute_result"
    }
   ],
   "source": [
    "# for i in range(1,len(route_df)):\n",
    "#     time_diff = (route_df.iloc[i].time - route_df.iloc[i - 1].time).seconds/60\n",
    "# print(time_diff)\n",
    "\n",
    "total_time_in_min = (\n",
    "    route_df.iloc[len(route_df)-1].time - route_df.iloc[0].time).seconds/60\n",
    "total_time_in_min\n"
   ]
  },
  {
   "cell_type": "code",
   "execution_count": 27,
   "metadata": {},
   "outputs": [],
   "source": [
    "# save the new df to csv\n",
    "route_df.to_csv('./data/csv/' + file_path[9:-4] + '.csv', index=True)\n"
   ]
  },
  {
   "cell_type": "code",
   "execution_count": 41,
   "metadata": {},
   "outputs": [],
   "source": []
  }
 ],
 "metadata": {
  "kernelspec": {
   "display_name": "Python 3",
   "language": "python",
   "name": "python3"
  },
  "language_info": {
   "codemirror_mode": {
    "name": "ipython",
    "version": 3
   },
   "file_extension": ".py",
   "mimetype": "text/x-python",
   "name": "python",
   "nbconvert_exporter": "python",
   "pygments_lexer": "ipython3",
   "version": "3.11.3"
  },
  "orig_nbformat": 4
 },
 "nbformat": 4,
 "nbformat_minor": 2
}
