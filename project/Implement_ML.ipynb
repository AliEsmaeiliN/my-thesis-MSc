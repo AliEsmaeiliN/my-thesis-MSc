{
 "cells": [
  {
   "cell_type": "code",
   "execution_count": 65,
   "metadata": {},
   "outputs": [],
   "source": [
    "import pandas as pd\n",
    "from sklearn.model_selection import train_test_split\n",
    "from sklearn import linear_model"
   ]
  },
  {
   "cell_type": "code",
   "execution_count": 66,
   "metadata": {},
   "outputs": [],
   "source": [
    "from gpx_to_csv import convert_all_gpx_to_csv, report\n",
    "# gpx_dir = './data/gpx/'\n",
    "# csv_dir = './data/csv/'\n",
    "# convert_all_gpx_to_csv(gpx_dir, csv_dir)"
   ]
  },
  {
   "cell_type": "code",
   "execution_count": 5,
   "metadata": {},
   "outputs": [
    {
     "data": {
      "text/html": [
       "<div>\n",
       "<style scoped>\n",
       "    .dataframe tbody tr th:only-of-type {\n",
       "        vertical-align: middle;\n",
       "    }\n",
       "\n",
       "    .dataframe tbody tr th {\n",
       "        vertical-align: top;\n",
       "    }\n",
       "\n",
       "    .dataframe thead th {\n",
       "        text-align: right;\n",
       "    }\n",
       "</style>\n",
       "<table border=\"1\" class=\"dataframe\">\n",
       "  <thead>\n",
       "    <tr style=\"text-align: right;\">\n",
       "      <th></th>\n",
       "      <th>time</th>\n",
       "      <th>latitude</th>\n",
       "      <th>longitude</th>\n",
       "      <th>elevation</th>\n",
       "      <th>elevation_diff</th>\n",
       "      <th>distance</th>\n",
       "      <th>speed</th>\n",
       "      <th>cum_elevation</th>\n",
       "      <th>cum_distance</th>\n",
       "      <th>counter</th>\n",
       "    </tr>\n",
       "  </thead>\n",
       "  <tbody>\n",
       "    <tr>\n",
       "      <th>0</th>\n",
       "      <td>2019-05-24 15:17:29+00:00</td>\n",
       "      <td>46.144479</td>\n",
       "      <td>10.965290</td>\n",
       "      <td>891.346</td>\n",
       "      <td>0.000</td>\n",
       "      <td>0.00</td>\n",
       "      <td>0.0000</td>\n",
       "      <td>0.000</td>\n",
       "      <td>0.00000</td>\n",
       "      <td>0</td>\n",
       "    </tr>\n",
       "    <tr>\n",
       "      <th>1</th>\n",
       "      <td>2019-05-24 15:17:49+00:00</td>\n",
       "      <td>46.151617</td>\n",
       "      <td>10.960616</td>\n",
       "      <td>1354.788</td>\n",
       "      <td>463.442</td>\n",
       "      <td>871.56</td>\n",
       "      <td>43.5780</td>\n",
       "      <td>463.442</td>\n",
       "      <td>0.87156</td>\n",
       "      <td>1</td>\n",
       "    </tr>\n",
       "    <tr>\n",
       "      <th>2</th>\n",
       "      <td>2019-05-24 15:18:09+00:00</td>\n",
       "      <td>46.151769</td>\n",
       "      <td>10.960604</td>\n",
       "      <td>1359.516</td>\n",
       "      <td>4.728</td>\n",
       "      <td>16.93</td>\n",
       "      <td>0.8465</td>\n",
       "      <td>468.170</td>\n",
       "      <td>0.88849</td>\n",
       "      <td>1</td>\n",
       "    </tr>\n",
       "    <tr>\n",
       "      <th>3</th>\n",
       "      <td>2019-05-24 15:18:29+00:00</td>\n",
       "      <td>46.151881</td>\n",
       "      <td>10.960633</td>\n",
       "      <td>1375.008</td>\n",
       "      <td>15.492</td>\n",
       "      <td>12.65</td>\n",
       "      <td>0.6325</td>\n",
       "      <td>483.662</td>\n",
       "      <td>0.90114</td>\n",
       "      <td>1</td>\n",
       "    </tr>\n",
       "    <tr>\n",
       "      <th>4</th>\n",
       "      <td>2019-05-24 15:18:49+00:00</td>\n",
       "      <td>46.151985</td>\n",
       "      <td>10.960997</td>\n",
       "      <td>1375.027</td>\n",
       "      <td>0.019</td>\n",
       "      <td>30.33</td>\n",
       "      <td>1.5165</td>\n",
       "      <td>483.681</td>\n",
       "      <td>0.93147</td>\n",
       "      <td>1</td>\n",
       "    </tr>\n",
       "    <tr>\n",
       "      <th>...</th>\n",
       "      <td>...</td>\n",
       "      <td>...</td>\n",
       "      <td>...</td>\n",
       "      <td>...</td>\n",
       "      <td>...</td>\n",
       "      <td>...</td>\n",
       "      <td>...</td>\n",
       "      <td>...</td>\n",
       "      <td>...</td>\n",
       "      <td>...</td>\n",
       "    </tr>\n",
       "    <tr>\n",
       "      <th>1760</th>\n",
       "      <td>2019-05-25 01:04:09+00:00</td>\n",
       "      <td>46.143240</td>\n",
       "      <td>10.964280</td>\n",
       "      <td>882.015</td>\n",
       "      <td>1.995</td>\n",
       "      <td>21.37</td>\n",
       "      <td>1.0685</td>\n",
       "      <td>-9.331</td>\n",
       "      <td>59.57414</td>\n",
       "      <td>6</td>\n",
       "    </tr>\n",
       "    <tr>\n",
       "      <th>1761</th>\n",
       "      <td>2019-05-25 01:04:29+00:00</td>\n",
       "      <td>46.143476</td>\n",
       "      <td>10.964383</td>\n",
       "      <td>888.096</td>\n",
       "      <td>6.081</td>\n",
       "      <td>27.42</td>\n",
       "      <td>1.3710</td>\n",
       "      <td>-3.250</td>\n",
       "      <td>59.60156</td>\n",
       "      <td>6</td>\n",
       "    </tr>\n",
       "    <tr>\n",
       "      <th>1762</th>\n",
       "      <td>2019-05-25 01:04:49+00:00</td>\n",
       "      <td>46.143630</td>\n",
       "      <td>10.964450</td>\n",
       "      <td>892.055</td>\n",
       "      <td>3.959</td>\n",
       "      <td>17.89</td>\n",
       "      <td>0.8945</td>\n",
       "      <td>0.709</td>\n",
       "      <td>59.61945</td>\n",
       "      <td>6</td>\n",
       "    </tr>\n",
       "    <tr>\n",
       "      <th>1763</th>\n",
       "      <td>2019-05-25 01:05:09+00:00</td>\n",
       "      <td>46.143950</td>\n",
       "      <td>10.964650</td>\n",
       "      <td>898.096</td>\n",
       "      <td>6.041</td>\n",
       "      <td>38.78</td>\n",
       "      <td>1.9390</td>\n",
       "      <td>6.750</td>\n",
       "      <td>59.65823</td>\n",
       "      <td>6</td>\n",
       "    </tr>\n",
       "    <tr>\n",
       "      <th>1764</th>\n",
       "      <td>2019-05-25 01:05:29+00:00</td>\n",
       "      <td>46.144062</td>\n",
       "      <td>10.964783</td>\n",
       "      <td>899.067</td>\n",
       "      <td>0.971</td>\n",
       "      <td>16.13</td>\n",
       "      <td>0.8065</td>\n",
       "      <td>7.721</td>\n",
       "      <td>59.67436</td>\n",
       "      <td>6</td>\n",
       "    </tr>\n",
       "  </tbody>\n",
       "</table>\n",
       "<p>1765 rows × 10 columns</p>\n",
       "</div>"
      ],
      "text/plain": [
       "                           time   latitude  longitude  elevation  \\\n",
       "0     2019-05-24 15:17:29+00:00  46.144479  10.965290    891.346   \n",
       "1     2019-05-24 15:17:49+00:00  46.151617  10.960616   1354.788   \n",
       "2     2019-05-24 15:18:09+00:00  46.151769  10.960604   1359.516   \n",
       "3     2019-05-24 15:18:29+00:00  46.151881  10.960633   1375.008   \n",
       "4     2019-05-24 15:18:49+00:00  46.151985  10.960997   1375.027   \n",
       "...                         ...        ...        ...        ...   \n",
       "1760  2019-05-25 01:04:09+00:00  46.143240  10.964280    882.015   \n",
       "1761  2019-05-25 01:04:29+00:00  46.143476  10.964383    888.096   \n",
       "1762  2019-05-25 01:04:49+00:00  46.143630  10.964450    892.055   \n",
       "1763  2019-05-25 01:05:09+00:00  46.143950  10.964650    898.096   \n",
       "1764  2019-05-25 01:05:29+00:00  46.144062  10.964783    899.067   \n",
       "\n",
       "      elevation_diff  distance    speed  cum_elevation  cum_distance  counter  \n",
       "0              0.000      0.00   0.0000          0.000       0.00000        0  \n",
       "1            463.442    871.56  43.5780        463.442       0.87156        1  \n",
       "2              4.728     16.93   0.8465        468.170       0.88849        1  \n",
       "3             15.492     12.65   0.6325        483.662       0.90114        1  \n",
       "4              0.019     30.33   1.5165        483.681       0.93147        1  \n",
       "...              ...       ...      ...            ...           ...      ...  \n",
       "1760           1.995     21.37   1.0685         -9.331      59.57414        6  \n",
       "1761           6.081     27.42   1.3710         -3.250      59.60156        6  \n",
       "1762           3.959     17.89   0.8945          0.709      59.61945        6  \n",
       "1763           6.041     38.78   1.9390          6.750      59.65823        6  \n",
       "1764           0.971     16.13   0.8065          7.721      59.67436        6  \n",
       "\n",
       "[1765 rows x 10 columns]"
      ]
     },
     "execution_count": 5,
     "metadata": {},
     "output_type": "execute_result"
    }
   ],
   "source": [
    "data = pd.read_csv('./data/csv/bear-trail.csv')\n",
    "data"
   ]
  },
  {
   "cell_type": "code",
   "execution_count": 67,
   "metadata": {},
   "outputs": [
    {
     "data": {
      "text/plain": [
       "array([0, 1, 2, 3, 4, 5, 6])"
      ]
     },
     "execution_count": 67,
     "metadata": {},
     "output_type": "execute_result"
    }
   ],
   "source": [
    "data.counter.unique()"
   ]
  },
  {
   "cell_type": "code",
   "execution_count": 70,
   "metadata": {},
   "outputs": [],
   "source": [
    "# Select relevant features (columns)\n",
    "features = ['elevation_diff','distance', 'speed']\n",
    "\n",
    "# Define the target column\n",
    "target = 'counter'\n",
    "\n",
    "# Split the data into features (X) and target (y)\n",
    "X = data[features]\n",
    "y = data[target]\n",
    "\n",
    "# Split the data into training and testing sets\n",
    "x_train, x_test, y_train, y_test = train_test_split(\n",
    "    X, y, test_size=0.2, random_state=42)\n"
   ]
  },
  {
   "cell_type": "code",
   "execution_count": 71,
   "metadata": {},
   "outputs": [
    {
     "name": "stdout",
     "output_type": "stream",
     "text": [
      "x_train shape: (1412, 3)\n",
      "x_test shape: (353, 3)\n"
     ]
    }
   ],
   "source": [
    "# Display the shape of the training and testing sets\n",
    "print('x_train shape:', x_train.shape)\n",
    "print('x_test shape:', x_test.shape)"
   ]
  },
  {
   "cell_type": "code",
   "execution_count": 72,
   "metadata": {},
   "outputs": [
    {
     "name": "stdout",
     "output_type": "stream",
     "text": [
      "RUNNING THE L-BFGS-B CODE\n",
      "\n",
      "           * * *\n",
      "\n",
      "Machine precision = 2.220D-16\n",
      " N =           28     M =           10\n",
      "\n",
      "At X0         0 variables are exactly at the bounds\n",
      "\n",
      "At iterate    0    f=  2.74763D+03    |proj g|=  1.07693D+04\n",
      "\n",
      "At iterate   50    f=  2.00511D+03    |proj g|=  8.52301D+02\n",
      "\n",
      "At iterate  100    f=  1.77153D+03    |proj g|=  5.50016D+01\n",
      "\n",
      "           * * *\n",
      "\n",
      "Tit   = total number of iterations\n",
      "Tnf   = total number of function evaluations\n",
      "Tnint = total number of segments explored during Cauchy searches\n",
      "Skip  = number of BFGS updates skipped\n",
      "Nact  = number of active bounds at final generalized Cauchy point\n",
      "Projg = norm of the final projected gradient\n",
      "F     = final function value\n",
      "\n",
      "           * * *\n",
      "\n",
      "   N    Tit     Tnf  Tnint  Skip  Nact     Projg        F\n",
      "   28    120    141      1     0     0   4.952D+02   1.768D+03\n",
      "  F =   1768.4722642137456     \n",
      "\n",
      "STOP: TOTAL NO. of ITERATIONS REACHED LIMIT                 \n"
     ]
    },
    {
     "name": "stderr",
     "output_type": "stream",
     "text": [
      "[Parallel(n_jobs=1)]: Using backend SequentialBackend with 1 concurrent workers.\n",
      " This problem is unconstrained.\n",
      "/Users/nimakarimi/anaconda3/lib/python3.11/site-packages/sklearn/linear_model/_logistic.py:460: ConvergenceWarning: lbfgs failed to converge (status=1):\n",
      "STOP: TOTAL NO. of ITERATIONS REACHED LIMIT.\n",
      "\n",
      "Increase the number of iterations (max_iter) or scale the data as shown in:\n",
      "    https://scikit-learn.org/stable/modules/preprocessing.html\n",
      "Please also refer to the documentation for alternative solver options:\n",
      "    https://scikit-learn.org/stable/modules/linear_model.html#logistic-regression\n",
      "  n_iter_i = _check_optimize_result(\n",
      "[Parallel(n_jobs=1)]: Done   1 out of   1 | elapsed:    0.0s finished\n"
     ]
    },
    {
     "data": {
      "text/html": [
       "<style>#sk-container-id-4 {color: black;}#sk-container-id-4 pre{padding: 0;}#sk-container-id-4 div.sk-toggleable {background-color: white;}#sk-container-id-4 label.sk-toggleable__label {cursor: pointer;display: block;width: 100%;margin-bottom: 0;padding: 0.3em;box-sizing: border-box;text-align: center;}#sk-container-id-4 label.sk-toggleable__label-arrow:before {content: \"▸\";float: left;margin-right: 0.25em;color: #696969;}#sk-container-id-4 label.sk-toggleable__label-arrow:hover:before {color: black;}#sk-container-id-4 div.sk-estimator:hover label.sk-toggleable__label-arrow:before {color: black;}#sk-container-id-4 div.sk-toggleable__content {max-height: 0;max-width: 0;overflow: hidden;text-align: left;background-color: #f0f8ff;}#sk-container-id-4 div.sk-toggleable__content pre {margin: 0.2em;color: black;border-radius: 0.25em;background-color: #f0f8ff;}#sk-container-id-4 input.sk-toggleable__control:checked~div.sk-toggleable__content {max-height: 200px;max-width: 100%;overflow: auto;}#sk-container-id-4 input.sk-toggleable__control:checked~label.sk-toggleable__label-arrow:before {content: \"▾\";}#sk-container-id-4 div.sk-estimator input.sk-toggleable__control:checked~label.sk-toggleable__label {background-color: #d4ebff;}#sk-container-id-4 div.sk-label input.sk-toggleable__control:checked~label.sk-toggleable__label {background-color: #d4ebff;}#sk-container-id-4 input.sk-hidden--visually {border: 0;clip: rect(1px 1px 1px 1px);clip: rect(1px, 1px, 1px, 1px);height: 1px;margin: -1px;overflow: hidden;padding: 0;position: absolute;width: 1px;}#sk-container-id-4 div.sk-estimator {font-family: monospace;background-color: #f0f8ff;border: 1px dotted black;border-radius: 0.25em;box-sizing: border-box;margin-bottom: 0.5em;}#sk-container-id-4 div.sk-estimator:hover {background-color: #d4ebff;}#sk-container-id-4 div.sk-parallel-item::after {content: \"\";width: 100%;border-bottom: 1px solid gray;flex-grow: 1;}#sk-container-id-4 div.sk-label:hover label.sk-toggleable__label {background-color: #d4ebff;}#sk-container-id-4 div.sk-serial::before {content: \"\";position: absolute;border-left: 1px solid gray;box-sizing: border-box;top: 0;bottom: 0;left: 50%;z-index: 0;}#sk-container-id-4 div.sk-serial {display: flex;flex-direction: column;align-items: center;background-color: white;padding-right: 0.2em;padding-left: 0.2em;position: relative;}#sk-container-id-4 div.sk-item {position: relative;z-index: 1;}#sk-container-id-4 div.sk-parallel {display: flex;align-items: stretch;justify-content: center;background-color: white;position: relative;}#sk-container-id-4 div.sk-item::before, #sk-container-id-4 div.sk-parallel-item::before {content: \"\";position: absolute;border-left: 1px solid gray;box-sizing: border-box;top: 0;bottom: 0;left: 50%;z-index: -1;}#sk-container-id-4 div.sk-parallel-item {display: flex;flex-direction: column;z-index: 1;position: relative;background-color: white;}#sk-container-id-4 div.sk-parallel-item:first-child::after {align-self: flex-end;width: 50%;}#sk-container-id-4 div.sk-parallel-item:last-child::after {align-self: flex-start;width: 50%;}#sk-container-id-4 div.sk-parallel-item:only-child::after {width: 0;}#sk-container-id-4 div.sk-dashed-wrapped {border: 1px dashed gray;margin: 0 0.4em 0.5em 0.4em;box-sizing: border-box;padding-bottom: 0.4em;background-color: white;}#sk-container-id-4 div.sk-label label {font-family: monospace;font-weight: bold;display: inline-block;line-height: 1.2em;}#sk-container-id-4 div.sk-label-container {text-align: center;}#sk-container-id-4 div.sk-container {/* jupyter's `normalize.less` sets `[hidden] { display: none; }` but bootstrap.min.css set `[hidden] { display: none !important; }` so we also need the `!important` here to be able to override the default hidden behavior on the sphinx rendered scikit-learn.org. See: https://github.com/scikit-learn/scikit-learn/issues/21755 */display: inline-block !important;position: relative;}#sk-container-id-4 div.sk-text-repr-fallback {display: none;}</style><div id=\"sk-container-id-4\" class=\"sk-top-container\"><div class=\"sk-text-repr-fallback\"><pre>LogisticRegression(max_iter=120, multi_class=&#x27;multinomial&#x27;, verbose=True)</pre><b>In a Jupyter environment, please rerun this cell to show the HTML representation or trust the notebook. <br />On GitHub, the HTML representation is unable to render, please try loading this page with nbviewer.org.</b></div><div class=\"sk-container\" hidden><div class=\"sk-item\"><div class=\"sk-estimator sk-toggleable\"><input class=\"sk-toggleable__control sk-hidden--visually\" id=\"sk-estimator-id-4\" type=\"checkbox\" checked><label for=\"sk-estimator-id-4\" class=\"sk-toggleable__label sk-toggleable__label-arrow\">LogisticRegression</label><div class=\"sk-toggleable__content\"><pre>LogisticRegression(max_iter=120, multi_class=&#x27;multinomial&#x27;, verbose=True)</pre></div></div></div></div></div>"
      ],
      "text/plain": [
       "LogisticRegression(max_iter=120, multi_class='multinomial', verbose=True)"
      ]
     },
     "execution_count": 72,
     "metadata": {},
     "output_type": "execute_result"
    }
   ],
   "source": [
    "model_lr = linear_model.LogisticRegression(\n",
    "    multi_class='multinomial', solver='lbfgs', max_iter=120, verbose=True)\n",
    "model_lr.fit(x_train, y_train)\n"
   ]
  },
  {
   "cell_type": "code",
   "execution_count": 73,
   "metadata": {},
   "outputs": [
    {
     "data": {
      "text/plain": [
       "array([4, 4, 4, 2, 4, 4, 2, 4, 4, 4, 4, 4, 4, 4, 4, 4, 4, 6, 2, 4, 4, 4,\n",
       "       4, 4, 4, 4, 4, 4, 4, 4, 4, 4, 4, 4, 4, 4, 4, 4, 4, 4, 4, 4, 4, 4,\n",
       "       4, 4, 4, 4, 4, 4, 4, 4, 4, 4, 4, 4, 4, 4, 4, 4, 4, 4, 4, 4, 4, 4,\n",
       "       2, 4, 4, 4, 4, 4, 4, 4, 4, 4, 2, 4, 4, 4, 4, 4, 4, 4, 4, 4, 4, 4,\n",
       "       4, 4, 4, 4, 4, 4, 4, 4, 4, 4, 4, 4, 4, 4, 4, 4, 4, 4, 4, 4, 4, 4,\n",
       "       4, 4, 4, 4, 4, 4, 4, 4, 4, 4, 2, 4, 4, 4, 4, 4, 4, 4, 4, 4, 4, 4,\n",
       "       4, 4, 4, 4, 4, 4, 4, 4, 4, 2, 4, 4, 4, 4, 4, 4, 4, 4, 4, 4, 4, 4,\n",
       "       4, 4, 4, 4, 4, 4, 4, 4, 4, 2, 4, 4, 4, 4, 4, 4, 4, 4, 2, 4, 4, 4,\n",
       "       4, 4, 4, 4, 4, 4, 4, 4, 4, 4, 4, 4, 2, 4, 4, 4, 4, 4, 4, 4, 4, 2,\n",
       "       4, 4, 4, 4, 4, 4, 4, 4, 4, 4, 4, 2, 4, 4, 4, 4, 4, 4, 4, 4, 4, 4,\n",
       "       4, 4, 4, 4, 4, 4, 2, 4, 4, 4, 4, 4, 4, 2, 4, 4, 4, 4, 4, 4, 2, 2,\n",
       "       4, 4, 4, 4, 4, 2, 4, 4, 4, 4, 4, 4, 4, 4, 4, 4, 4, 4, 4, 4, 4, 4,\n",
       "       4, 4, 4, 4, 4, 4, 4, 4, 4, 4, 4, 4, 4, 4, 4, 4, 4, 4, 4, 4, 4, 4,\n",
       "       4, 4, 4, 4, 4, 4, 4, 4, 4, 4, 2, 4, 4, 4, 4, 4, 4, 4, 4, 4, 4, 4,\n",
       "       4, 2, 4, 4, 4, 4, 4, 4, 4, 4, 4, 4, 4, 4, 4, 4, 4, 4, 4, 4, 4, 4,\n",
       "       4, 4, 4, 4, 4, 4, 4, 4, 4, 4, 4, 4, 4, 4, 4, 4, 4, 4, 4, 4, 4, 4,\n",
       "       4])"
      ]
     },
     "execution_count": 73,
     "metadata": {},
     "output_type": "execute_result"
    }
   ],
   "source": [
    "model_lr.predict(x_test)"
   ]
  },
  {
   "cell_type": "code",
   "execution_count": 74,
   "metadata": {},
   "outputs": [
    {
     "data": {
      "text/plain": [
       "0.48441926345609065"
      ]
     },
     "execution_count": 74,
     "metadata": {},
     "output_type": "execute_result"
    }
   ],
   "source": [
    "# accuracy\n",
    "model_lr.score(x_test, y_test)"
   ]
  },
  {
   "cell_type": "code",
   "execution_count": 75,
   "metadata": {},
   "outputs": [
    {
     "data": {
      "text/plain": [
       "array([4, 4, 4, 2, 4, 4, 2, 4, 4, 4, 4, 4, 4, 4, 4, 4, 4, 6, 2, 4, 4, 4,\n",
       "       4, 4, 4, 4, 4, 4, 4, 4, 4, 4, 4, 4, 4, 4, 4, 4, 4, 4, 4, 4, 4, 4,\n",
       "       4, 4, 4, 4, 4, 4, 4, 4, 4, 4, 4, 4, 4, 4, 4, 4, 4, 4, 4, 4, 4, 4,\n",
       "       2, 4, 4, 4, 4, 4, 4, 4, 4, 4, 2, 4, 4, 4, 4, 4, 4, 4, 4, 4, 4, 4,\n",
       "       4, 4, 4, 4, 4, 4, 4, 4, 4, 4, 4, 4, 4, 4, 4, 4, 4, 4, 4, 4, 4, 4,\n",
       "       4, 4, 4, 4, 4, 4, 4, 4, 4, 4, 2, 4, 4, 4, 4, 4, 4, 4, 4, 4, 4, 4,\n",
       "       4, 4, 4, 4, 4, 4, 4, 4, 4, 2, 4, 4, 4, 4, 4, 4, 4, 4, 4, 4, 4, 4,\n",
       "       4, 4, 4, 4, 4, 4, 4, 4, 4, 2, 4, 4, 4, 4, 4, 4, 4, 4, 2, 4, 4, 4,\n",
       "       4, 4, 4, 4, 4, 4, 4, 4, 4, 4, 4, 4, 2, 4, 4, 4, 4, 4, 4, 4, 4, 2,\n",
       "       4, 4, 4, 4, 4, 4, 4, 4, 4, 4, 4, 2, 4, 4, 4, 4, 4, 4, 4, 4, 4, 4,\n",
       "       4, 4, 4, 4, 4, 4, 2, 4, 4, 4, 4, 4, 4, 2, 4, 4, 4, 4, 4, 4, 2, 2,\n",
       "       4, 4, 4, 4, 4, 2, 4, 4, 4, 4, 4, 4, 4, 4, 4, 4, 4, 4, 4, 4, 4, 4,\n",
       "       4, 4, 4, 4, 4, 4, 4, 4, 4, 4, 4, 4, 4, 4, 4, 4, 4, 4, 4, 4, 4, 4,\n",
       "       4, 4, 4, 4, 4, 4, 4, 4, 4, 4, 2, 4, 4, 4, 4, 4, 4, 4, 4, 4, 4, 4,\n",
       "       4, 2, 4, 4, 4, 4, 4, 4, 4, 4, 4, 4, 4, 4, 4, 4, 4, 4, 4, 4, 4, 4,\n",
       "       4, 4, 4, 4, 4, 4, 4, 4, 4, 4, 4, 4, 4, 4, 4, 4, 4, 4, 4, 4, 4, 4,\n",
       "       4])"
      ]
     },
     "execution_count": 75,
     "metadata": {},
     "output_type": "execute_result"
    }
   ],
   "source": [
    "predicted_output = model_lr.predict(x_test)\n",
    "predicted_output"
   ]
  },
  {
   "cell_type": "code",
   "execution_count": 76,
   "metadata": {},
   "outputs": [
    {
     "data": {
      "text/plain": [
       "array([[  6,   0,  29,   0,   0],\n",
       "       [  0,   0,   3,   0,   0],\n",
       "       [  6,   0, 165,   0,   1],\n",
       "       [  0,   0,  35,   0,   0],\n",
       "       [  7,   0, 101,   0,   0]])"
      ]
     },
     "execution_count": 76,
     "metadata": {},
     "output_type": "execute_result"
    }
   ],
   "source": [
    "from sklearn.metrics import confusion_matrix\n",
    "cm = confusion_matrix(y_test, predicted_output)\n",
    "cm"
   ]
  },
  {
   "cell_type": "code",
   "execution_count": 77,
   "metadata": {},
   "outputs": [
    {
     "data": {
      "text/plain": [
       "Text(33.22222222222222, 0.5, 'Truth or Actual Value')"
      ]
     },
     "execution_count": 77,
     "metadata": {},
     "output_type": "execute_result"
    },
    {
     "data": {
      "image/png": "[encoded data removed]",
      "text/plain": [
       "<Figure size 500x400 with 2 Axes>"
      ]
     },
     "metadata": {},
     "output_type": "display_data"
    }
   ],
   "source": [
    "import seaborn as sn\n",
    "from matplotlib import pyplot as plt\n",
    "plt.figure(figsize=(5, 4))\n",
    "sn.heatmap(cm, annot=True)\n",
    "plt.xlabel('Predicted Value')\n",
    "plt.ylabel('Truth or Actual Value')"
   ]
  },
  {
   "attachments": {},
   "cell_type": "markdown",
   "metadata": {},
   "source": [
    "## Random Forest\n"
   ]
  },
  {
   "cell_type": "code",
   "execution_count": 78,
   "metadata": {},
   "outputs": [
    {
     "name": "stdout",
     "output_type": "stream",
     "text": [
      "RF Model Accuracy: 0.5014164305949008\n"
     ]
    }
   ],
   "source": [
    "from sklearn.ensemble import RandomForestClassifier\n",
    "\n",
    "# Create a Random Forest classifier\n",
    "model_rf = RandomForestClassifier(random_state=42)\n",
    "\n",
    "# Train the model\n",
    "model_rf.fit(x_train, y_train)\n",
    "\n",
    "# Evaluate the model on the testing set\n",
    "accuracy = model_rf.score(x_test, y_test)\n",
    "print('RF Model Accuracy:', accuracy)\n"
   ]
  },
  {
   "cell_type": "code",
   "execution_count": 79,
   "metadata": {},
   "outputs": [
    {
     "data": {
      "text/plain": [
       "0.5014164305949008"
      ]
     },
     "execution_count": 79,
     "metadata": {},
     "output_type": "execute_result"
    }
   ],
   "source": [
    "predicted_output = model_rf.predict(x_test)\n",
    "\n",
    "# accuracy\n",
    "model_rf.score(x_test, y_test)\n"
   ]
  },
  {
   "cell_type": "code",
   "execution_count": 80,
   "metadata": {},
   "outputs": [
    {
     "name": "stdout",
     "output_type": "stream",
     "text": [
      "Classification Report:\n",
      "               precision    recall  f1-score   support\n",
      "\n",
      "           2       0.33      0.26      0.29        35\n",
      "           3       0.00      0.00      0.00         3\n",
      "           4       0.59      0.65      0.62       172\n",
      "           5       0.29      0.20      0.24        35\n",
      "           6       0.44      0.45      0.45       108\n",
      "\n",
      "    accuracy                           0.50       353\n",
      "   macro avg       0.33      0.31      0.32       353\n",
      "weighted avg       0.49      0.50      0.49       353\n",
      "\n",
      "Confusion Matrix:\n",
      " [[  9   0  16   3   7]\n",
      " [  0   0   2   0   1]\n",
      " [ 10   1 112   7  42]\n",
      " [  1   0  15   7  12]\n",
      " [  7   1  44   7  49]]\n"
     ]
    }
   ],
   "source": [
    "from sklearn.metrics import classification_report, confusion_matrix\n",
    "# Print classification report and confusion matrix\n",
    "print(\"Classification Report:\\n\", classification_report(y_test, predicted_output))\n",
    "print(\"Confusion Matrix:\\n\", confusion_matrix(y_test, predicted_output))\n"
   ]
  },
  {
   "cell_type": "code",
   "execution_count": 81,
   "metadata": {},
   "outputs": [
    {
     "name": "stdout",
     "output_type": "stream",
     "text": [
      "before \n",
      "                           time   latitude  longitude  elevation  \\\n",
      "0    2014-09-17 06:20:16+00:00  46.303075  10.981860    754.844   \n",
      "1    2014-09-17 06:26:00+00:00  46.301365  10.980137    760.105   \n",
      "2    2014-09-17 06:26:56+00:00  46.301606  10.979870    761.515   \n",
      "3    2014-09-17 06:29:49+00:00  46.300925  10.978946    764.907   \n",
      "4    2014-09-17 06:30:23+00:00  46.300270  10.978331    769.711   \n",
      "..                         ...        ...        ...        ...   \n",
      "495  2014-09-17 17:01:35+00:00  46.362461  10.901419    787.023   \n",
      "496  2014-09-17 17:02:35+00:00  46.363349  10.898631    787.083   \n",
      "497  2014-09-17 17:03:12+00:00  46.363770  10.896750    788.911   \n",
      "498  2014-09-17 17:03:32+00:00  46.363606  10.896120    789.407   \n",
      "499  2014-09-17 17:25:40+00:00  46.363762  10.895565    790.379   \n",
      "\n",
      "     elevation_diff  distance     speed  cum_elevation  cum_distance  counter  \n",
      "0             0.000      0.00  0.000000          0.000       0.00000        0  \n",
      "1             5.261    231.68  0.673488          5.261       0.23168        0  \n",
      "2             1.410     33.75  0.602679          6.671       0.26543        0  \n",
      "3             3.392    103.79  0.599942         10.063       0.36922        0  \n",
      "4             4.804     86.81  2.553235         14.867       0.45603        0  \n",
      "..              ...       ...       ...            ...           ...      ...  \n",
      "495          12.427    589.96  3.597317         32.179      46.29978        0  \n",
      "496           0.060    235.62  3.927000         32.239      46.53540        0  \n",
      "497           1.828    151.74  4.101081         34.067      46.68714        0  \n",
      "498           0.496     51.67  2.583500         34.563      46.73881        0  \n",
      "499           0.972     45.98  0.034623         35.535      46.78479        0  \n",
      "\n",
      "[500 rows x 10 columns]\n",
      "count    500.000000\n",
      "mean       3.204000\n",
      "std        0.979951\n",
      "min        2.000000\n",
      "25%        2.000000\n",
      "50%        4.000000\n",
      "75%        4.000000\n",
      "max        4.000000\n",
      "Name: predicted_lift_usage_lr, dtype: float64\n"
     ]
    },
    {
     "data": {
      "text/html": [
       "<div>\n",
       "<style scoped>\n",
       "    .dataframe tbody tr th:only-of-type {\n",
       "        vertical-align: middle;\n",
       "    }\n",
       "\n",
       "    .dataframe tbody tr th {\n",
       "        vertical-align: top;\n",
       "    }\n",
       "\n",
       "    .dataframe thead th {\n",
       "        text-align: right;\n",
       "    }\n",
       "</style>\n",
       "<table border=\"1\" class=\"dataframe\">\n",
       "  <thead>\n",
       "    <tr style=\"text-align: right;\">\n",
       "      <th></th>\n",
       "      <th>time</th>\n",
       "      <th>latitude</th>\n",
       "      <th>longitude</th>\n",
       "      <th>elevation</th>\n",
       "      <th>elevation_diff</th>\n",
       "      <th>distance</th>\n",
       "      <th>speed</th>\n",
       "      <th>cum_elevation</th>\n",
       "      <th>cum_distance</th>\n",
       "      <th>counter</th>\n",
       "      <th>predicted_lift_usage_lr</th>\n",
       "    </tr>\n",
       "  </thead>\n",
       "  <tbody>\n",
       "    <tr>\n",
       "      <th>0</th>\n",
       "      <td>2014-09-17 06:20:16+00:00</td>\n",
       "      <td>46.303075</td>\n",
       "      <td>10.981860</td>\n",
       "      <td>754.844</td>\n",
       "      <td>0.000</td>\n",
       "      <td>0.00</td>\n",
       "      <td>0.000000</td>\n",
       "      <td>0.000</td>\n",
       "      <td>0.00000</td>\n",
       "      <td>0</td>\n",
       "      <td>4</td>\n",
       "    </tr>\n",
       "    <tr>\n",
       "      <th>1</th>\n",
       "      <td>2014-09-17 06:26:00+00:00</td>\n",
       "      <td>46.301365</td>\n",
       "      <td>10.980137</td>\n",
       "      <td>760.105</td>\n",
       "      <td>5.261</td>\n",
       "      <td>231.68</td>\n",
       "      <td>0.673488</td>\n",
       "      <td>5.261</td>\n",
       "      <td>0.23168</td>\n",
       "      <td>0</td>\n",
       "      <td>2</td>\n",
       "    </tr>\n",
       "    <tr>\n",
       "      <th>2</th>\n",
       "      <td>2014-09-17 06:26:56+00:00</td>\n",
       "      <td>46.301606</td>\n",
       "      <td>10.979870</td>\n",
       "      <td>761.515</td>\n",
       "      <td>1.410</td>\n",
       "      <td>33.75</td>\n",
       "      <td>0.602679</td>\n",
       "      <td>6.671</td>\n",
       "      <td>0.26543</td>\n",
       "      <td>0</td>\n",
       "      <td>4</td>\n",
       "    </tr>\n",
       "    <tr>\n",
       "      <th>3</th>\n",
       "      <td>2014-09-17 06:29:49+00:00</td>\n",
       "      <td>46.300925</td>\n",
       "      <td>10.978946</td>\n",
       "      <td>764.907</td>\n",
       "      <td>3.392</td>\n",
       "      <td>103.79</td>\n",
       "      <td>0.599942</td>\n",
       "      <td>10.063</td>\n",
       "      <td>0.36922</td>\n",
       "      <td>0</td>\n",
       "      <td>2</td>\n",
       "    </tr>\n",
       "    <tr>\n",
       "      <th>4</th>\n",
       "      <td>2014-09-17 06:30:23+00:00</td>\n",
       "      <td>46.300270</td>\n",
       "      <td>10.978331</td>\n",
       "      <td>769.711</td>\n",
       "      <td>4.804</td>\n",
       "      <td>86.81</td>\n",
       "      <td>2.553235</td>\n",
       "      <td>14.867</td>\n",
       "      <td>0.45603</td>\n",
       "      <td>0</td>\n",
       "      <td>4</td>\n",
       "    </tr>\n",
       "    <tr>\n",
       "      <th>...</th>\n",
       "      <td>...</td>\n",
       "      <td>...</td>\n",
       "      <td>...</td>\n",
       "      <td>...</td>\n",
       "      <td>...</td>\n",
       "      <td>...</td>\n",
       "      <td>...</td>\n",
       "      <td>...</td>\n",
       "      <td>...</td>\n",
       "      <td>...</td>\n",
       "      <td>...</td>\n",
       "    </tr>\n",
       "    <tr>\n",
       "      <th>495</th>\n",
       "      <td>2014-09-17 17:01:35+00:00</td>\n",
       "      <td>46.362461</td>\n",
       "      <td>10.901419</td>\n",
       "      <td>787.023</td>\n",
       "      <td>12.427</td>\n",
       "      <td>589.96</td>\n",
       "      <td>3.597317</td>\n",
       "      <td>32.179</td>\n",
       "      <td>46.29978</td>\n",
       "      <td>0</td>\n",
       "      <td>2</td>\n",
       "    </tr>\n",
       "    <tr>\n",
       "      <th>496</th>\n",
       "      <td>2014-09-17 17:02:35+00:00</td>\n",
       "      <td>46.363349</td>\n",
       "      <td>10.898631</td>\n",
       "      <td>787.083</td>\n",
       "      <td>0.060</td>\n",
       "      <td>235.62</td>\n",
       "      <td>3.927000</td>\n",
       "      <td>32.239</td>\n",
       "      <td>46.53540</td>\n",
       "      <td>0</td>\n",
       "      <td>2</td>\n",
       "    </tr>\n",
       "    <tr>\n",
       "      <th>497</th>\n",
       "      <td>2014-09-17 17:03:12+00:00</td>\n",
       "      <td>46.363770</td>\n",
       "      <td>10.896750</td>\n",
       "      <td>788.911</td>\n",
       "      <td>1.828</td>\n",
       "      <td>151.74</td>\n",
       "      <td>4.101081</td>\n",
       "      <td>34.067</td>\n",
       "      <td>46.68714</td>\n",
       "      <td>0</td>\n",
       "      <td>2</td>\n",
       "    </tr>\n",
       "    <tr>\n",
       "      <th>498</th>\n",
       "      <td>2014-09-17 17:03:32+00:00</td>\n",
       "      <td>46.363606</td>\n",
       "      <td>10.896120</td>\n",
       "      <td>789.407</td>\n",
       "      <td>0.496</td>\n",
       "      <td>51.67</td>\n",
       "      <td>2.583500</td>\n",
       "      <td>34.563</td>\n",
       "      <td>46.73881</td>\n",
       "      <td>0</td>\n",
       "      <td>4</td>\n",
       "    </tr>\n",
       "    <tr>\n",
       "      <th>499</th>\n",
       "      <td>2014-09-17 17:25:40+00:00</td>\n",
       "      <td>46.363762</td>\n",
       "      <td>10.895565</td>\n",
       "      <td>790.379</td>\n",
       "      <td>0.972</td>\n",
       "      <td>45.98</td>\n",
       "      <td>0.034623</td>\n",
       "      <td>35.535</td>\n",
       "      <td>46.78479</td>\n",
       "      <td>0</td>\n",
       "      <td>4</td>\n",
       "    </tr>\n",
       "  </tbody>\n",
       "</table>\n",
       "<p>500 rows × 11 columns</p>\n",
       "</div>"
      ],
      "text/plain": [
       "                          time   latitude  longitude  elevation  \\\n",
       "0    2014-09-17 06:20:16+00:00  46.303075  10.981860    754.844   \n",
       "1    2014-09-17 06:26:00+00:00  46.301365  10.980137    760.105   \n",
       "2    2014-09-17 06:26:56+00:00  46.301606  10.979870    761.515   \n",
       "3    2014-09-17 06:29:49+00:00  46.300925  10.978946    764.907   \n",
       "4    2014-09-17 06:30:23+00:00  46.300270  10.978331    769.711   \n",
       "..                         ...        ...        ...        ...   \n",
       "495  2014-09-17 17:01:35+00:00  46.362461  10.901419    787.023   \n",
       "496  2014-09-17 17:02:35+00:00  46.363349  10.898631    787.083   \n",
       "497  2014-09-17 17:03:12+00:00  46.363770  10.896750    788.911   \n",
       "498  2014-09-17 17:03:32+00:00  46.363606  10.896120    789.407   \n",
       "499  2014-09-17 17:25:40+00:00  46.363762  10.895565    790.379   \n",
       "\n",
       "     elevation_diff  distance     speed  cum_elevation  cum_distance  counter  \\\n",
       "0             0.000      0.00  0.000000          0.000       0.00000        0   \n",
       "1             5.261    231.68  0.673488          5.261       0.23168        0   \n",
       "2             1.410     33.75  0.602679          6.671       0.26543        0   \n",
       "3             3.392    103.79  0.599942         10.063       0.36922        0   \n",
       "4             4.804     86.81  2.553235         14.867       0.45603        0   \n",
       "..              ...       ...       ...            ...           ...      ...   \n",
       "495          12.427    589.96  3.597317         32.179      46.29978        0   \n",
       "496           0.060    235.62  3.927000         32.239      46.53540        0   \n",
       "497           1.828    151.74  4.101081         34.067      46.68714        0   \n",
       "498           0.496     51.67  2.583500         34.563      46.73881        0   \n",
       "499           0.972     45.98  0.034623         35.535      46.78479        0   \n",
       "\n",
       "     predicted_lift_usage_lr  \n",
       "0                          4  \n",
       "1                          2  \n",
       "2                          4  \n",
       "3                          2  \n",
       "4                          4  \n",
       "..                       ...  \n",
       "495                        2  \n",
       "496                        2  \n",
       "497                        2  \n",
       "498                        4  \n",
       "499                        4  \n",
       "\n",
       "[500 rows x 11 columns]"
      ]
     },
     "execution_count": 81,
     "metadata": {},
     "output_type": "execute_result"
    }
   ],
   "source": [
    "new_data = pd.read_csv('./data/csv/alpes-7.csv')\n",
    "print('before \\n', new_data)\n",
    "\n",
    "# Use the trained model to predict\n",
    "predicted_lift_usage = model_lr.predict(new_data[features])\n",
    "\n",
    "# Add the predictions as a new column to the new_data DataFrame\n",
    "new_data['predicted_lift_usage_lr'] = predicted_lift_usage\n",
    "\n",
    "# Display the new_data DataFrame with predictions\n",
    "print(new_data.predicted_lift_usage_lr.describe())\n",
    "new_data"
   ]
  },
  {
   "cell_type": "markdown",
   "metadata": {},
   "source": []
  }
 ],
 "metadata": {
  "kernelspec": {
   "display_name": "base",
   "language": "python",
   "name": "python3"
  },
  "language_info": {
   "codemirror_mode": {
    "name": "ipython",
    "version": 3
   },
   "file_extension": ".py",
   "mimetype": "text/x-python",
   "name": "python",
   "nbconvert_exporter": "python",
   "pygments_lexer": "ipython3",
   "version": "3.11.3"
  },
  "orig_nbformat": 4
 },
 "nbformat": 4,
 "nbformat_minor": 2
}
